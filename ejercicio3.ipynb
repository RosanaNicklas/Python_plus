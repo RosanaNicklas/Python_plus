{
 "cells": [
  {
   "cell_type": "code",
   "execution_count": 1,
   "id": "b0f8ef54",
   "metadata": {},
   "outputs": [
    {
     "data": {
      "text/plain": [
       "[25, 8, 32, 20, 1]"
      ]
     },
     "execution_count": 1,
     "metadata": {},
     "output_type": "execute_result"
    }
   ],
   "source": [
    "test= [25, 8, 32, 20, 1]\n",
    "test"
   ]
  },
  {
   "cell_type": "code",
   "execution_count": 2,
   "id": "c1a9515a",
   "metadata": {},
   "outputs": [
    {
     "data": {
      "text/plain": [
       "list"
      ]
     },
     "execution_count": 2,
     "metadata": {},
     "output_type": "execute_result"
    }
   ],
   "source": [
    "type(test)"
   ]
  },
  {
   "cell_type": "code",
   "execution_count": 3,
   "id": "545f8fdb",
   "metadata": {},
   "outputs": [
    {
     "data": {
      "text/plain": [
       "[25, 8, 32, 20, 1, 20, 32, 25, 32]"
      ]
     },
     "execution_count": 3,
     "metadata": {},
     "output_type": "execute_result"
    }
   ],
   "source": [
    "valor = [20, 32, 25, 32]\n",
    "test = test + valor\n",
    "test"
   ]
  },
  {
   "cell_type": "code",
   "execution_count": 4,
   "id": "1eee8765",
   "metadata": {},
   "outputs": [
    {
     "data": {
      "text/plain": [
       "[25, 32, 20, 1, 20, 32, 25, 32]"
      ]
     },
     "execution_count": 4,
     "metadata": {},
     "output_type": "execute_result"
    }
   ],
   "source": [
    "test.remove(test[1])\n",
    "test"
   ]
  },
  {
   "cell_type": "code",
   "execution_count": 5,
   "id": "efa413a8",
   "metadata": {},
   "outputs": [
    {
     "data": {
      "text/plain": [
       "[1, 20, 20, 25, 25, 32, 32, 32]"
      ]
     },
     "execution_count": 5,
     "metadata": {},
     "output_type": "execute_result"
    }
   ],
   "source": [
    "test.sort()\n",
    "test"
   ]
  },
  {
   "cell_type": "code",
   "execution_count": 6,
   "id": "b9a9103b",
   "metadata": {},
   "outputs": [
    {
     "data": {
      "text/plain": [
       "{1, 20, 25, 32}"
      ]
     },
     "execution_count": 6,
     "metadata": {},
     "output_type": "execute_result"
    }
   ],
   "source": [
    "testi = set(test)\n",
    "testi"
   ]
  },
  {
   "cell_type": "code",
   "execution_count": 7,
   "id": "33b0f8ab",
   "metadata": {},
   "outputs": [
    {
     "data": {
      "text/plain": [
       "[32, 1, 20, 25]"
      ]
     },
     "execution_count": 7,
     "metadata": {},
     "output_type": "execute_result"
    }
   ],
   "source": [
    "test = list(testi)\n",
    "test"
   ]
  },
  {
   "cell_type": "code",
   "execution_count": 8,
   "id": "34229f2e",
   "metadata": {},
   "outputs": [
    {
     "data": {
      "text/plain": [
       "[25, 100, 10, 20, 5, 25, 30, 200]"
      ]
     },
     "execution_count": 8,
     "metadata": {},
     "output_type": "execute_result"
    }
   ],
   "source": [
    "info = [25, 100, 10, 20, 5, 25, 30, 200]\n",
    "info"
   ]
  },
  {
   "cell_type": "code",
   "execution_count": 9,
   "id": "731577b9",
   "metadata": {},
   "outputs": [
    {
     "data": {
      "text/plain": [
       "{5, 10, 20, 25, 30, 100, 200}"
      ]
     },
     "execution_count": 9,
     "metadata": {},
     "output_type": "execute_result"
    }
   ],
   "source": [
    "infor = set(info)\n",
    "infor"
   ]
  },
  {
   "cell_type": "code",
   "execution_count": 10,
   "id": "1ae89f4e",
   "metadata": {},
   "outputs": [
    {
     "data": {
      "text/plain": [
       "[100, 5, 200, 10, 20, 25, 30]"
      ]
     },
     "execution_count": 10,
     "metadata": {},
     "output_type": "execute_result"
    }
   ],
   "source": [
    "info = list(infor)\n",
    "info"
   ]
  },
  {
   "cell_type": "code",
   "execution_count": 11,
   "id": "61606fae",
   "metadata": {},
   "outputs": [
    {
     "name": "stdout",
     "output_type": "stream",
     "text": [
      "1 ---> 20\n",
      "2 ---> 25\n",
      "2\n"
     ]
    }
   ],
   "source": [
    "contador = 0\n",
    "for i in test:\n",
    "     for j in info:\n",
    "        if i == j:\n",
    "            contador +=1\n",
    "            print(f\"{contador} ---> {i}\")\n",
    "print(contador)    "
   ]
  },
  {
   "cell_type": "code",
   "execution_count": 12,
   "id": "42dba35a",
   "metadata": {},
   "outputs": [
    {
     "data": {
      "text/plain": [
       "1"
      ]
     },
     "execution_count": 12,
     "metadata": {},
     "output_type": "execute_result"
    }
   ],
   "source": [
    "min(test)"
   ]
  },
  {
   "cell_type": "code",
   "execution_count": 13,
   "id": "f6f5747a",
   "metadata": {},
   "outputs": [
    {
     "data": {
      "text/plain": [
       "32"
      ]
     },
     "execution_count": 13,
     "metadata": {},
     "output_type": "execute_result"
    }
   ],
   "source": [
    "max(test)"
   ]
  },
  {
   "cell_type": "code",
   "execution_count": 14,
   "id": "cb846be5",
   "metadata": {},
   "outputs": [
    {
     "data": {
      "text/plain": [
       "5"
      ]
     },
     "execution_count": 14,
     "metadata": {},
     "output_type": "execute_result"
    }
   ],
   "source": [
    "min(info)"
   ]
  },
  {
   "cell_type": "code",
   "execution_count": 15,
   "id": "02a3e97a",
   "metadata": {},
   "outputs": [
    {
     "data": {
      "text/plain": [
       "200"
      ]
     },
     "execution_count": 15,
     "metadata": {},
     "output_type": "execute_result"
    }
   ],
   "source": [
    "max(info)"
   ]
  },
  {
   "cell_type": "code",
   "execution_count": 16,
   "id": "65bbb793",
   "metadata": {},
   "outputs": [],
   "source": [
    "import numpy as np"
   ]
  },
  {
   "cell_type": "code",
   "execution_count": 17,
   "id": "949faa18",
   "metadata": {},
   "outputs": [
    {
     "data": {
      "text/plain": [
       "array([[32,  1],\n",
       "       [20, 25]])"
      ]
     },
     "execution_count": 17,
     "metadata": {},
     "output_type": "execute_result"
    }
   ],
   "source": [
    "matriz = np.array([[32, 1], [20, 25]])\n",
    "matriz"
   ]
  },
  {
   "cell_type": "code",
   "execution_count": 18,
   "id": "581353c1",
   "metadata": {},
   "outputs": [
    {
     "name": "stdout",
     "output_type": "stream",
     "text": [
      "la division da 6.4 y el resto 2\n"
     ]
    },
    {
     "data": {
      "text/plain": [
       "2"
      ]
     },
     "execution_count": 18,
     "metadata": {},
     "output_type": "execute_result"
    }
   ],
   "source": [
    "def funcion_division():\n",
    "    div = test[0]/info[1]\n",
    "    resto = test[0]%info[1]\n",
    "    print(f\"la division da {div} y el resto {resto}\")\n",
    "    return resto\n",
    "funcion_division()"
   ]
  },
  {
   "cell_type": "code",
   "execution_count": 28,
   "id": "feef0612",
   "metadata": {},
   "outputs": [
    {
     "data": {
      "text/plain": [
       "'Dos'"
      ]
     },
     "execution_count": 28,
     "metadata": {},
     "output_type": "execute_result"
    }
   ],
   "source": []
  },
  {
   "cell_type": "code",
   "execution_count": 19,
   "id": "292e7ec0",
   "metadata": {},
   "outputs": [
    {
     "data": {
      "text/plain": [
       "[25, 20, 1, 32]"
      ]
     },
     "execution_count": 19,
     "metadata": {},
     "output_type": "execute_result"
    }
   ],
   "source": [
    "test.reverse()\n",
    "test"
   ]
  },
  {
   "cell_type": "code",
   "execution_count": 20,
   "id": "15377673",
   "metadata": {},
   "outputs": [
    {
     "data": {
      "text/plain": [
       "[25, 20, 1, 32]"
      ]
     },
     "execution_count": 20,
     "metadata": {},
     "output_type": "execute_result"
    }
   ],
   "source": [
    "test"
   ]
  },
  {
   "cell_type": "code",
   "execution_count": 21,
   "id": "dccde265",
   "metadata": {},
   "outputs": [
    {
     "name": "stdout",
     "output_type": "stream",
     "text": [
      "1 100\n",
      "2 5\n",
      "3 200\n",
      "4 10\n",
      "5 20\n",
      "6 25\n",
      "7 30\n"
     ]
    }
   ],
   "source": [
    "dic_new ={}\n",
    "info = [100, 5, 200, 10, 20, 25, 30]\n",
    "for index, num in enumerate(info, start = 1):\n",
    "    print(index, num)\n"
   ]
  },
  {
   "cell_type": "code",
   "execution_count": 22,
   "id": "59d1786d",
   "metadata": {},
   "outputs": [
    {
     "data": {
      "text/plain": [
       "{1: 100, 2: 5, 3: 200, 4: 10, 5: 20, 6: 25, 7: 30}"
      ]
     },
     "execution_count": 22,
     "metadata": {},
     "output_type": "execute_result"
    }
   ],
   "source": [
    "dicnew = {index : num for index, num in enumerate(info, start = 1)}\n",
    "dicnew"
   ]
  },
  {
   "cell_type": "code",
   "execution_count": 29,
   "id": "f6335ce0",
   "metadata": {},
   "outputs": [
    {
     "name": "stdout",
     "output_type": "stream",
     "text": [
      "[100, 5, 200, 'Pedro', 'Juan', 'Maria', 30]\n"
     ]
    }
   ],
   "source": [
    "info2 = []\n",
    "for i in info:\n",
    "    if i == 25:\n",
    "        i = \"Maria\"\n",
    "    elif i == 20:\n",
    "        i = \"Juan\"\n",
    "    elif i == 10:\n",
    "        i = \"Pedro\"\n",
    "    info2.append(i)\n",
    "print(info2)"
   ]
  },
  {
   "cell_type": "code",
   "execution_count": 25,
   "id": "7f706855",
   "metadata": {},
   "outputs": [
    {
     "name": "stdout",
     "output_type": "stream",
     "text": [
      "['Dos', 1, 'Dos', 25]\n"
     ]
    }
   ],
   "source": [
    "test =[32, 1, 20, 25]\n",
    "test1 =[]\n",
    "for i in test:\n",
    "    if i % 2 == 0:\n",
    "        i = \"Dos\"\n",
    "    \n",
    "    test1.append(i)\n",
    "print(test1)"
   ]
  },
  {
   "cell_type": "code",
   "execution_count": 26,
   "id": "3dea0cd8",
   "metadata": {},
   "outputs": [
    {
     "name": "stdout",
     "output_type": "stream",
     "text": [
      "Dos\n",
      "1\n",
      "Dos\n",
      "25\n"
     ]
    },
    {
     "data": {
      "text/plain": [
       "['Dos', 1, 'Dos', 25]"
      ]
     },
     "execution_count": 26,
     "metadata": {},
     "output_type": "execute_result"
    }
   ],
   "source": [
    "test = []\n",
    "for i in test1:\n",
    "    print(i)\n",
    "    test.append(i)\n",
    "test   "
   ]
  },
  {
   "cell_type": "markdown",
   "id": "d3137d61",
   "metadata": {},
   "source": [
    "**EJERCICIO 2**"
   ]
  },
  {
   "cell_type": "code",
   "execution_count": 46,
   "id": "b0a14d60",
   "metadata": {},
   "outputs": [
    {
     "name": "stdout",
     "output_type": "stream",
     "text": [
      "1\n",
      "2\n",
      "hello\n",
      "4\n",
      "world\n",
      "hello\n",
      "7\n",
      "8\n",
      "hello\n",
      "world\n",
      "11\n",
      "hello\n",
      "13\n",
      "14\n",
      "Hello World\n",
      "16\n",
      "17\n",
      "hello\n",
      "19\n",
      "world\n",
      "hello\n",
      "22\n",
      "23\n",
      "hello\n",
      "world\n",
      "26\n",
      "hello\n",
      "28\n",
      "29\n",
      "Hello World\n",
      "31\n",
      "32\n",
      "hello\n",
      "34\n",
      "world\n",
      "hello\n",
      "37\n",
      "38\n",
      "hello\n",
      "world\n",
      "41\n",
      "hello\n",
      "43\n",
      "44\n",
      "Hello World\n",
      "46\n",
      "47\n",
      "hello\n",
      "49\n",
      "world\n",
      "hello\n",
      "52\n",
      "53\n",
      "hello\n",
      "world\n",
      "56\n",
      "hello\n",
      "58\n",
      "59\n",
      "Hello World\n",
      "61\n",
      "62\n",
      "hello\n",
      "64\n",
      "world\n",
      "hello\n",
      "67\n",
      "68\n",
      "hello\n",
      "world\n",
      "71\n",
      "hello\n",
      "73\n",
      "74\n",
      "Hello World\n",
      "76\n",
      "77\n",
      "hello\n",
      "79\n",
      "world\n",
      "hello\n",
      "82\n",
      "83\n",
      "hello\n",
      "world\n",
      "86\n",
      "hello\n",
      "88\n",
      "89\n",
      "Hello World\n",
      "91\n",
      "92\n",
      "hello\n",
      "94\n",
      "world\n",
      "hello\n",
      "97\n",
      "98\n",
      "hello\n",
      "world\n",
      "[1, 2, 'hello', 4, 'world', 'hello', 7, 8, 'hello', 'world', 11, 'hello', 13, 14, 'Hello World', 16, 17, 'hello', 19, 'world', 'hello', 22, 23, 'hello', 'world', 26, 'hello', 28, 29, 'Hello World', 31, 32, 'hello', 34, 'world', 'hello', 37, 38, 'hello', 'world', 41, 'hello', 43, 44, 'Hello World', 46, 47, 'hello', 49, 'world', 'hello', 52, 53, 'hello', 'world', 56, 'hello', 58, 59, 'Hello World', 61, 62, 'hello', 64, 'world', 'hello', 67, 68, 'hello', 'world', 71, 'hello', 73, 74, 'Hello World', 76, 77, 'hello', 79, 'world', 'hello', 82, 83, 'hello', 'world', 86, 'hello', 88, 89, 'Hello World', 91, 92, 'hello', 94, 'world', 'hello', 97, 98, 'hello', 'world']\n"
     ]
    }
   ],
   "source": [
    "numeros = []\n",
    "for i in range(1,101):\n",
    "    if i%3 == 0 and i%5 ==0:\n",
    "        print(\"Hello World\")\n",
    "        numeros.append(\"Hello World\")\n",
    "    elif i%3 == 0:\n",
    "        print(\"hello\")\n",
    "        numeros.append(\"hello\")\n",
    "    elif i%5 == 0:\n",
    "        print(\"world\")\n",
    "        numeros.append(\"world\")\n",
    "    else:\n",
    "        print(i)\n",
    "        numeros.append(i)\n",
    "print(numeros)     "
   ]
  },
  {
   "cell_type": "code",
   "execution_count": null,
   "id": "4319d3b4",
   "metadata": {},
   "outputs": [],
   "source": []
  }
 ],
 "metadata": {
  "kernelspec": {
   "display_name": "Python 3 (ipykernel)",
   "language": "python",
   "name": "python3"
  },
  "language_info": {
   "codemirror_mode": {
    "name": "ipython",
    "version": 3
   },
   "file_extension": ".py",
   "mimetype": "text/x-python",
   "name": "python",
   "nbconvert_exporter": "python",
   "pygments_lexer": "ipython3",
   "version": "3.9.7"
  }
 },
 "nbformat": 4,
 "nbformat_minor": 5
}
