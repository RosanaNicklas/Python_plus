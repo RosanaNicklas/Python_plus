{
 "cells": [
  {
   "cell_type": "code",
   "execution_count": 1,
   "id": "8f6c811b",
   "metadata": {},
   "outputs": [
    {
     "data": {
      "text/plain": [
       "[30, 20, 10, 50, 40]"
      ]
     },
     "execution_count": 1,
     "metadata": {},
     "output_type": "execute_result"
    }
   ],
   "source": [
    "listado = [30, 20, 10, 50, 40]\n",
    "listado"
   ]
  },
  {
   "cell_type": "code",
   "execution_count": 1,
   "id": "7038cc37",
   "metadata": {},
   "outputs": [
    {
     "data": {
      "text/plain": [
       "[30, 20, 10, 50, 40]"
      ]
     },
     "execution_count": 1,
     "metadata": {},
     "output_type": "execute_result"
    }
   ],
   "source": [
    "listado = [30, 20, 10, 50, 40]\n",
    "listado"
   ]
  },
  {
   "cell_type": "code",
   "execution_count": 1,
   "id": "523215cd",
   "metadata": {},
   "outputs": [
    {
     "data": {
      "text/plain": [
       "[30, 20, 10, 50, 40]"
      ]
     },
     "execution_count": 1,
     "metadata": {},
     "output_type": "execute_result"
    }
   ],
   "source": [
    "listado = [30, 20, 10, 50, 40]\n",
    "listado"
   ]
  },
  {
   "cell_type": "code",
   "execution_count": 1,
   "id": "edf2abc7",
   "metadata": {},
   "outputs": [
    {
     "data": {
      "text/plain": [
       "[30, 20, 10, 50, 40]"
      ]
     },
     "execution_count": 1,
     "metadata": {},
     "output_type": "execute_result"
    }
   ],
   "source": [
    "listado = [30, 20, 10, 50, 40]\n",
    "listado"
   ]
  },
  {
   "cell_type": "code",
   "execution_count": 1,
   "id": "f1158596",
   "metadata": {},
   "outputs": [
    {
     "data": {
      "text/plain": [
       "[30, 20, 10, 50, 40]"
      ]
     },
     "execution_count": 1,
     "metadata": {},
     "output_type": "execute_result"
    }
   ],
   "source": [
    "listado = [30, 20, 10, 50, 40]\n",
    "listado"
   ]
  },
  {
   "cell_type": "code",
   "execution_count": 1,
   "id": "7485940a",
   "metadata": {},
   "outputs": [
    {
     "data": {
      "text/plain": [
       "[30, 20, 10, 50, 40]"
      ]
     },
     "execution_count": 1,
     "metadata": {},
     "output_type": "execute_result"
    }
   ],
   "source": [
    "listado = [30, 20, 10, 50, 40]\n",
    "listado"
   ]
  },
  {
   "cell_type": "code",
   "execution_count": 1,
   "id": "422b24f4",
   "metadata": {},
   "outputs": [
    {
     "data": {
      "text/plain": [
       "[30, 20, 10, 50, 40]"
      ]
     },
     "execution_count": 1,
     "metadata": {},
     "output_type": "execute_result"
    }
   ],
   "source": [
    "listado = [30, 20, 10, 50, 40]\n",
    "listado"
   ]
  },
  {
   "cell_type": "code",
   "execution_count": 1,
   "id": "114ee584",
   "metadata": {},
   "outputs": [
    {
     "data": {
      "text/plain": [
       "[30, 20, 10, 50, 40]"
      ]
     },
     "execution_count": 1,
     "metadata": {},
     "output_type": "execute_result"
    }
   ],
   "source": [
    "listado = [30, 20, 10, 50, 40]\n",
    "listado"
   ]
  },
  {
   "cell_type": "code",
   "execution_count": 1,
   "id": "e23c0d6d",
   "metadata": {},
   "outputs": [
    {
     "data": {
      "text/plain": [
       "[30, 20, 10, 50, 40]"
      ]
     },
     "execution_count": 1,
     "metadata": {},
     "output_type": "execute_result"
    }
   ],
   "source": [
    "listado = [30, 20, 10, 50, 40]\n",
    "listado"
   ]
  },
  {
   "cell_type": "code",
   "execution_count": 1,
   "id": "18210d34",
   "metadata": {},
   "outputs": [
    {
     "data": {
      "text/plain": [
       "[30, 20, 10, 50, 40]"
      ]
     },
     "execution_count": 1,
     "metadata": {},
     "output_type": "execute_result"
    }
   ],
   "source": [
    "listado = [30, 20, 10, 50, 40]\n",
    "listado"
   ]
  },
  {
   "cell_type": "code",
   "execution_count": 1,
   "id": "dead4fda",
   "metadata": {},
   "outputs": [
    {
     "data": {
      "text/plain": [
       "[30, 20, 10, 50, 40]"
      ]
     },
     "execution_count": 1,
     "metadata": {},
     "output_type": "execute_result"
    }
   ],
   "source": [
    "listado = [30, 20, 10, 50, 40]\n",
    "listado"
   ]
  },
  {
   "cell_type": "code",
   "execution_count": 1,
   "id": "181e6056",
   "metadata": {},
   "outputs": [
    {
     "data": {
      "text/plain": [
       "[30, 20, 10, 50, 40]"
      ]
     },
     "execution_count": 1,
     "metadata": {},
     "output_type": "execute_result"
    }
   ],
   "source": [
    "listado = [30, 20, 10, 50, 40]\n",
    "listado"
   ]
  },
  {
   "cell_type": "code",
   "execution_count": 1,
   "id": "51c98000",
   "metadata": {},
   "outputs": [
    {
     "data": {
      "text/plain": [
       "[30, 20, 10, 50, 40]"
      ]
     },
     "execution_count": 1,
     "metadata": {},
     "output_type": "execute_result"
    }
   ],
   "source": [
    "listado = [30, 20, 10, 50, 40]\n",
    "listado"
   ]
  },
  {
   "cell_type": "code",
   "execution_count": 2,
   "id": "c77f5b13",
   "metadata": {},
   "outputs": [
    {
     "data": {
      "text/plain": [
       "10"
      ]
     },
     "execution_count": 2,
     "metadata": {},
     "output_type": "execute_result"
    }
   ],
   "source": [
    "min(listado)"
   ]
  },
  {
   "cell_type": "code",
   "execution_count": 3,
   "id": "123cdfe3",
   "metadata": {},
   "outputs": [
    {
     "name": "stdout",
     "output_type": "stream",
     "text": [
      "40\n"
     ]
    }
   ],
   "source": [
    "minimo = 10000\n",
    "for i in listado:\n",
    "    if i < minimo:\n",
    "        minimo = i\n",
    "print(i)"
   ]
  },
  {
   "cell_type": "code",
   "execution_count": 4,
   "id": "8e628a23",
   "metadata": {},
   "outputs": [
    {
     "data": {
      "text/plain": [
       "50"
      ]
     },
     "execution_count": 4,
     "metadata": {},
     "output_type": "execute_result"
    }
   ],
   "source": [
    "max(listado)\n",
    "\n",
    "        "
   ]
  },
  {
   "cell_type": "code",
   "execution_count": 20,
   "id": "990dcd27",
   "metadata": {},
   "outputs": [
    {
     "name": "stdout",
     "output_type": "stream",
     "text": [
      "30\n",
      "50\n"
     ]
    }
   ],
   "source": [
    "maximo = -1\n",
    "for i in listado:\n",
    "    if i > maximo:\n",
    "        maximo = i\n",
    "        print(i)"
   ]
  },
  {
   "cell_type": "code",
   "execution_count": 6,
   "id": "e0ac9951",
   "metadata": {},
   "outputs": [],
   "source": [
    "min_listado = (i for i in listado if i == min(listado))\n",
    "max_listado = (i for i in listado if i == max(listado))"
   ]
  },
  {
   "cell_type": "code",
   "execution_count": 7,
   "id": "79946263",
   "metadata": {},
   "outputs": [],
   "source": [
    "lista = list(min_listado)\n",
    "listo = list(max_listado)"
   ]
  },
  {
   "cell_type": "code",
   "execution_count": 8,
   "id": "265bca2d",
   "metadata": {},
   "outputs": [
    {
     "name": "stdout",
     "output_type": "stream",
     "text": [
      "[10] [50]\n"
     ]
    }
   ],
   "source": [
    "print(lista, listo)\n"
   ]
  },
  {
   "cell_type": "code",
   "execution_count": 9,
   "id": "31c807bd",
   "metadata": {},
   "outputs": [
    {
     "data": {
      "text/plain": [
       "[30, 20, 10, 50, 40]"
      ]
     },
     "execution_count": 9,
     "metadata": {},
     "output_type": "execute_result"
    }
   ],
   "source": [
    "listado"
   ]
  },
  {
   "cell_type": "code",
   "execution_count": 10,
   "id": "e515bf82",
   "metadata": {},
   "outputs": [
    {
     "data": {
      "text/plain": [
       "[10, 20, 30, 40, 50]"
      ]
     },
     "execution_count": 10,
     "metadata": {},
     "output_type": "execute_result"
    }
   ],
   "source": [
    "listado.sort()\n",
    "listado"
   ]
  },
  {
   "cell_type": "code",
   "execution_count": 11,
   "id": "aad8f8db",
   "metadata": {},
   "outputs": [
    {
     "data": {
      "text/plain": [
       "[10, 20, 30, 40, 50]"
      ]
     },
     "execution_count": 11,
     "metadata": {},
     "output_type": "execute_result"
    }
   ],
   "source": [
    "listado_ascendente = sorted(listado)\n",
    "listado_ascendente"
   ]
  },
  {
   "cell_type": "code",
   "execution_count": 12,
   "id": "8b7a8911",
   "metadata": {},
   "outputs": [
    {
     "name": "stdout",
     "output_type": "stream",
     "text": [
      "50\n",
      "[10, 20, 30, 40, 50]\n"
     ]
    }
   ],
   "source": [
    "maximo = -1\n",
    "listado_ascendente = []\n",
    "for i in listado:\n",
    "    if i > maximo:\n",
    "        maximo = i\n",
    "        listado_ascendente.append(maximo)\n",
    "print(i)\n",
    "print(listado_ascendente)"
   ]
  },
  {
   "cell_type": "code",
   "execution_count": 13,
   "id": "f924fdb4",
   "metadata": {},
   "outputs": [
    {
     "data": {
      "text/plain": [
       "[50, 40, 30, 20, 10]"
      ]
     },
     "execution_count": 13,
     "metadata": {},
     "output_type": "execute_result"
    }
   ],
   "source": [
    "listado.sort(reverse = True)\n",
    "listado"
   ]
  },
  {
   "cell_type": "code",
   "execution_count": 14,
   "id": "65dfca4a",
   "metadata": {},
   "outputs": [
    {
     "data": {
      "text/plain": [
       "[50, 40, 30, 20, 10]"
      ]
     },
     "execution_count": 14,
     "metadata": {},
     "output_type": "execute_result"
    }
   ],
   "source": [
    "listado_descendente = sorted(listado, reverse=True)\n",
    "listado_descendente"
   ]
  },
  {
   "cell_type": "code",
   "execution_count": 15,
   "id": "3657f74c",
   "metadata": {},
   "outputs": [
    {
     "name": "stdout",
     "output_type": "stream",
     "text": [
      "[50, 40, 30, 20, 10]\n"
     ]
    }
   ],
   "source": [
    "minimo = 10000000000\n",
    "listado_descendente = []\n",
    "for i in listado:\n",
    "    if i < minimo:\n",
    "        minimo = i\n",
    "        listado_descendente.append(minimo)\n",
    "      \n",
    "print(listado_descendente)\n",
    "        \n",
    "        "
   ]
  },
  {
   "cell_type": "code",
   "execution_count": 16,
   "id": "88a51276",
   "metadata": {},
   "outputs": [
    {
     "data": {
      "text/plain": [
       "[30, 20, 10, 50, 40]"
      ]
     },
     "execution_count": 16,
     "metadata": {},
     "output_type": "execute_result"
    }
   ],
   "source": [
    "listado = [30, 20, 10, 50, 40]\n",
    "listado"
   ]
  },
  {
   "cell_type": "code",
   "execution_count": 25,
   "id": "fa4906b2",
   "metadata": {},
   "outputs": [
    {
     "ename": "SyntaxError",
     "evalue": "cannot assign to operator (1930965636.py, line 5)",
     "output_type": "error",
     "traceback": [
      "\u001b[0;36m  File \u001b[0;32m\"/var/folders/jw/lg6ll5ln5sx8l3dbpj7412480000gn/T/ipykernel_33714/1930965636.py\"\u001b[0;36m, line \u001b[0;32m5\u001b[0m\n\u001b[0;31m    (i+1) = minimo\u001b[0m\n\u001b[0m     ^\u001b[0m\n\u001b[0;31mSyntaxError\u001b[0m\u001b[0;31m:\u001b[0m cannot assign to operator\n"
     ]
    }
   ],
   "source": [
    "for i in listado:\n",
    "    if i < (i+1):\n",
    "        i = minimo\n",
    "    else:\n",
    "        (i+1) = minimo\n",
    "print(i)"
   ]
  },
  {
   "cell_type": "code",
   "execution_count": 30,
   "id": "06380db7",
   "metadata": {},
   "outputs": [
    {
     "data": {
      "text/plain": [
       "10"
      ]
     },
     "execution_count": 30,
     "metadata": {},
     "output_type": "execute_result"
    }
   ],
   "source": [
    "minimo = max(listado)+1\n",
    "for numero in listado:\n",
    "    if numero < minimo:\n",
    "        minimo = numero\n",
    "minimo"
   ]
  },
  {
   "cell_type": "code",
   "execution_count": 29,
   "id": "680291b4",
   "metadata": {},
   "outputs": [
    {
     "data": {
      "text/plain": [
       "50"
      ]
     },
     "execution_count": 29,
     "metadata": {},
     "output_type": "execute_result"
    }
   ],
   "source": [
    "max(listado)"
   ]
  },
  {
   "cell_type": "code",
   "execution_count": 31,
   "id": "feea9f07",
   "metadata": {},
   "outputs": [
    {
     "data": {
      "text/plain": [
       "50"
      ]
     },
     "execution_count": 31,
     "metadata": {},
     "output_type": "execute_result"
    }
   ],
   "source": [
    "maximo = min(listado)-1\n",
    "for numero in listado:\n",
    "    if numero > maximo:\n",
    "        maximo = numero\n",
    "maximo        "
   ]
  },
  {
   "cell_type": "code",
   "execution_count": 13,
   "id": "5defc360",
   "metadata": {},
   "outputs": [
    {
     "name": "stdout",
     "output_type": "stream",
     "text": [
      "Introduce numero para calcular factorial: 5\n"
     ]
    },
    {
     "data": {
      "text/plain": [
       "120"
      ]
     },
     "execution_count": 13,
     "metadata": {},
     "output_type": "execute_result"
    }
   ],
   "source": [
    "numero = int(input(\"Introduce numero para calcular factorial: \"))\n",
    "def factorial_a(numero):\n",
    "    if numero < 0:\n",
    "        print(\"no se puede calcular el factorial de un numero negativo\")\n",
    "    elif numero == 0:\n",
    "        return 1\n",
    "    else:\n",
    "        fact = 1\n",
    "        for i in range(1, numero+1):\n",
    "            fact = fact * i\n",
    "        return fact \n",
    "factorial_a(numero)  \n"
   ]
  },
  {
   "cell_type": "code",
   "execution_count": null,
   "id": "db0db203",
   "metadata": {},
   "outputs": [],
   "source": []
  },
  {
   "cell_type": "code",
   "execution_count": null,
   "id": "80c97039",
   "metadata": {},
   "outputs": [],
   "source": []
  }
 ],
 "metadata": {
  "kernelspec": {
   "display_name": "Python 3 (ipykernel)",
   "language": "python",
   "name": "python3"
  },
  "language_info": {
   "codemirror_mode": {
    "name": "ipython",
    "version": 3
   },
   "file_extension": ".py",
   "mimetype": "text/x-python",
   "name": "python",
   "nbconvert_exporter": "python",
   "pygments_lexer": "ipython3",
   "version": "3.8.10"
  }
 },
 "nbformat": 4,
 "nbformat_minor": 5
}
