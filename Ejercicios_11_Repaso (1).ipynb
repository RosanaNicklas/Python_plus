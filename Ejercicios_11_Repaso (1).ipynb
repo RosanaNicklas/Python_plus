{
 "cells": [
  {
   "cell_type": "markdown",
   "id": "d8f832b1",
   "metadata": {},
   "source": [
    "*Creado por*\n",
    "\n",
    "*Isabel Maniega*"
   ]
  },
  {
   "cell_type": "markdown",
   "id": "253dd867",
   "metadata": {},
   "source": [
    "# Ejercicio 1"
   ]
  },
  {
   "cell_type": "markdown",
   "id": "eb6a4b64",
   "metadata": {},
   "source": [
    "Escribe el código necesario en Python para:"
   ]
  },
  {
   "cell_type": "markdown",
   "id": "d2f7ef7b",
   "metadata": {},
   "source": [
    "* almacenar con una lista de nombre \"clientes\" los siguientes nombres: "
   ]
  },
  {
   "cell_type": "markdown",
   "id": "ecefda56",
   "metadata": {},
   "source": [
    "\"Ana Pérez\", \"Juan García\", \"Andres Álvarez\", \"Luis Ramos\", \"Pedro Cadenas\", \"Estefanía Miguélez\", \"Alberto Delgado\", \"Susana Castro\", \"Luis González\""
   ]
  },
  {
   "cell_type": "code",
   "execution_count": 1,
   "id": "93fc9c69",
   "metadata": {},
   "outputs": [
    {
     "data": {
      "text/plain": [
       "['Ana Pérez',\n",
       " 'Juan García',\n",
       " 'Andres Álvarez',\n",
       " 'Luis Ramos',\n",
       " 'Pedro Cadenas',\n",
       " 'Estefanía Miguélez',\n",
       " 'Alberto Delgado',\n",
       " 'Susana Castro',\n",
       " 'Luis González']"
      ]
     },
     "execution_count": 1,
     "metadata": {},
     "output_type": "execute_result"
    }
   ],
   "source": [
    "Clientes = [\"Ana Pérez\", \"Juan García\", \"Andres Álvarez\", \"Luis Ramos\", \"Pedro Cadenas\", \"Estefanía Miguélez\", \"Alberto Delgado\", \"Susana Castro\", \"Luis González\"]\n",
    "Clientes"
   ]
  },
  {
   "cell_type": "markdown",
   "id": "de38dd6f",
   "metadata": {},
   "source": [
    "**1)** Para ese listado de clientes imprime todos ellos, 1 a 1"
   ]
  },
  {
   "cell_type": "code",
   "execution_count": 2,
   "id": "cbe8c68a",
   "metadata": {},
   "outputs": [
    {
     "name": "stdout",
     "output_type": "stream",
     "text": [
      "Ana Pérez\n",
      "Juan García\n",
      "Andres Álvarez\n",
      "Luis Ramos\n",
      "Pedro Cadenas\n",
      "Estefanía Miguélez\n",
      "Alberto Delgado\n",
      "Susana Castro\n",
      "Luis González\n"
     ]
    }
   ],
   "source": [
    "for i in Clientes:\n",
    "    print(i)"
   ]
  },
  {
   "cell_type": "markdown",
   "id": "a4de9e6e",
   "metadata": {},
   "source": [
    "**2)** Dentro de ese grupo de clientes.."
   ]
  },
  {
   "cell_type": "code",
   "execution_count": 30,
   "id": "d2ffbcf7",
   "metadata": {},
   "outputs": [
    {
     "name": "stdout",
     "output_type": "stream",
     "text": [
      "Introduce el nombre del Cliente :Ana Pérez\n",
      "El cliente Ana Pérez se encuentra en mi base de datos de Clientes\n"
     ]
    }
   ],
   "source": [
    "nombre = input(\"Introduce el nombre del Cliente :\")\n",
    "for i in Clientes:\n",
    "    if nombre in Clientes:\n",
    "        print(f\"El cliente {nombre} se encuentra en mi base de datos de Clientes\")\n",
    "        break\n",
    "    else:\n",
    "        print(f\"el cliente {nombre} NO se encuentra en mi Base de Datos de Clientes\")\n",
    "        break"
   ]
  },
  {
   "cell_type": "markdown",
   "id": "7a81bbd8",
   "metadata": {},
   "source": [
    "**se pide buscar..al cliente de nombre: \"Juan García\" si es posible**\n",
    "\n",
    "   \n",
    "\n",
    "   * Si lo encuentra, debería imprimir un mensaje tal que así:\n",
    "\n",
    "   \"el cliente -nombre del cliente- se encuentra en mi Base de Datos de Clientes\"\n",
    "   \n",
    "\n",
    "   * Si no se le encuentra, debería salir un mensaje tal que así: \n",
    "\n",
    "   \"el cliente -nombre del cliente- NO se encuentra en mi Base de Datos de Clientes\""
   ]
  },
  {
   "cell_type": "markdown",
   "id": "27c45f45",
   "metadata": {},
   "source": [
    "**Nota:** Comprueba en el caso de llevar o no acento"
   ]
  },
  {
   "cell_type": "markdown",
   "id": "9168b3b2",
   "metadata": {},
   "source": [
    "**3)**\n",
    "\n",
    "Crea un DataFrame, de nombre **df** \n",
    "\n",
    "con esa información en base a la siguiente relación de clientes y tarifas contratadas (€)\n",
    "\n",
    "**clientes:**\n",
    "\n",
    "Ana Pérez, Juan García, Andrés Álvarez, Luis Ramos, Pedro Cadenas, Estefanía Miguélez, Alberto Delgado, Susana Castro, Luis González\n",
    "\n",
    "**tarifas:**\n",
    "\n",
    "40,50,50,35,45,50,60,50,45"
   ]
  },
  {
   "cell_type": "code",
   "execution_count": 4,
   "id": "6675f0c3",
   "metadata": {},
   "outputs": [],
   "source": [
    "import pandas as pd\n"
   ]
  },
  {
   "cell_type": "code",
   "execution_count": 5,
   "id": "b7415787",
   "metadata": {},
   "outputs": [
    {
     "name": "stdout",
     "output_type": "stream",
     "text": [
      "[40, 50, 50, 35, 45, 50, 60, 50, 45]\n",
      "['Ana Pérez', 'Juan García', 'Andres Álvarez', 'Luis Ramos', 'Pedro Cadenas', 'Estefanía Miguélez', 'Alberto Delgado', 'Susana Castro', 'Luis González']\n"
     ]
    }
   ],
   "source": [
    "tarifas = [40,50,50,35,45,50,60,50,45]\n",
    "print(tarifas)\n",
    "print(Clientes)"
   ]
  },
  {
   "cell_type": "code",
   "execution_count": 6,
   "id": "337af3ca",
   "metadata": {},
   "outputs": [
    {
     "data": {
      "text/plain": [
       "[('Ana Pérez', 40),\n",
       " ('Juan García', 50),\n",
       " ('Andres Álvarez', 50),\n",
       " ('Luis Ramos', 35),\n",
       " ('Pedro Cadenas', 45),\n",
       " ('Estefanía Miguélez', 50),\n",
       " ('Alberto Delgado', 60),\n",
       " ('Susana Castro', 50),\n",
       " ('Luis González', 45)]"
      ]
     },
     "execution_count": 6,
     "metadata": {},
     "output_type": "execute_result"
    }
   ],
   "source": [
    "datos = list(zip(Clientes, tarifas))\n",
    "datos"
   ]
  },
  {
   "cell_type": "code",
   "execution_count": 7,
   "id": "1cecc341",
   "metadata": {},
   "outputs": [
    {
     "data": {
      "text/html": [
       "<div>\n",
       "<style scoped>\n",
       "    .dataframe tbody tr th:only-of-type {\n",
       "        vertical-align: middle;\n",
       "    }\n",
       "\n",
       "    .dataframe tbody tr th {\n",
       "        vertical-align: top;\n",
       "    }\n",
       "\n",
       "    .dataframe thead th {\n",
       "        text-align: right;\n",
       "    }\n",
       "</style>\n",
       "<table border=\"1\" class=\"dataframe\">\n",
       "  <thead>\n",
       "    <tr style=\"text-align: right;\">\n",
       "      <th></th>\n",
       "      <th>Clientes</th>\n",
       "      <th>tarifas</th>\n",
       "    </tr>\n",
       "  </thead>\n",
       "  <tbody>\n",
       "    <tr>\n",
       "      <th>0</th>\n",
       "      <td>Ana Pérez</td>\n",
       "      <td>40</td>\n",
       "    </tr>\n",
       "    <tr>\n",
       "      <th>1</th>\n",
       "      <td>Juan García</td>\n",
       "      <td>50</td>\n",
       "    </tr>\n",
       "    <tr>\n",
       "      <th>2</th>\n",
       "      <td>Andres Álvarez</td>\n",
       "      <td>50</td>\n",
       "    </tr>\n",
       "    <tr>\n",
       "      <th>3</th>\n",
       "      <td>Luis Ramos</td>\n",
       "      <td>35</td>\n",
       "    </tr>\n",
       "    <tr>\n",
       "      <th>4</th>\n",
       "      <td>Pedro Cadenas</td>\n",
       "      <td>45</td>\n",
       "    </tr>\n",
       "    <tr>\n",
       "      <th>5</th>\n",
       "      <td>Estefanía Miguélez</td>\n",
       "      <td>50</td>\n",
       "    </tr>\n",
       "    <tr>\n",
       "      <th>6</th>\n",
       "      <td>Alberto Delgado</td>\n",
       "      <td>60</td>\n",
       "    </tr>\n",
       "    <tr>\n",
       "      <th>7</th>\n",
       "      <td>Susana Castro</td>\n",
       "      <td>50</td>\n",
       "    </tr>\n",
       "    <tr>\n",
       "      <th>8</th>\n",
       "      <td>Luis González</td>\n",
       "      <td>45</td>\n",
       "    </tr>\n",
       "  </tbody>\n",
       "</table>\n",
       "</div>"
      ],
      "text/plain": [
       "             Clientes  tarifas\n",
       "0           Ana Pérez       40\n",
       "1         Juan García       50\n",
       "2      Andres Álvarez       50\n",
       "3          Luis Ramos       35\n",
       "4       Pedro Cadenas       45\n",
       "5  Estefanía Miguélez       50\n",
       "6     Alberto Delgado       60\n",
       "7       Susana Castro       50\n",
       "8       Luis González       45"
      ]
     },
     "execution_count": 7,
     "metadata": {},
     "output_type": "execute_result"
    }
   ],
   "source": [
    "Compradores = pd.DataFrame(datos, columns = [\"Clientes\", \"tarifas\"])\n",
    "Compradores"
   ]
  },
  {
   "cell_type": "markdown",
   "id": "0f793fa7",
   "metadata": {},
   "source": [
    "**4)**\n",
    "\n",
    "**Imprime las primeras 5 filas del DataFrame**\n",
    "\n",
    "de 2 formas distintas"
   ]
  },
  {
   "cell_type": "code",
   "execution_count": 8,
   "id": "353e9216",
   "metadata": {},
   "outputs": [
    {
     "data": {
      "text/html": [
       "<div>\n",
       "<style scoped>\n",
       "    .dataframe tbody tr th:only-of-type {\n",
       "        vertical-align: middle;\n",
       "    }\n",
       "\n",
       "    .dataframe tbody tr th {\n",
       "        vertical-align: top;\n",
       "    }\n",
       "\n",
       "    .dataframe thead th {\n",
       "        text-align: right;\n",
       "    }\n",
       "</style>\n",
       "<table border=\"1\" class=\"dataframe\">\n",
       "  <thead>\n",
       "    <tr style=\"text-align: right;\">\n",
       "      <th></th>\n",
       "      <th>Clientes</th>\n",
       "      <th>tarifas</th>\n",
       "    </tr>\n",
       "  </thead>\n",
       "  <tbody>\n",
       "    <tr>\n",
       "      <th>0</th>\n",
       "      <td>Ana Pérez</td>\n",
       "      <td>40</td>\n",
       "    </tr>\n",
       "    <tr>\n",
       "      <th>1</th>\n",
       "      <td>Juan García</td>\n",
       "      <td>50</td>\n",
       "    </tr>\n",
       "    <tr>\n",
       "      <th>2</th>\n",
       "      <td>Andres Álvarez</td>\n",
       "      <td>50</td>\n",
       "    </tr>\n",
       "    <tr>\n",
       "      <th>3</th>\n",
       "      <td>Luis Ramos</td>\n",
       "      <td>35</td>\n",
       "    </tr>\n",
       "    <tr>\n",
       "      <th>4</th>\n",
       "      <td>Pedro Cadenas</td>\n",
       "      <td>45</td>\n",
       "    </tr>\n",
       "  </tbody>\n",
       "</table>\n",
       "</div>"
      ],
      "text/plain": [
       "         Clientes  tarifas\n",
       "0       Ana Pérez       40\n",
       "1     Juan García       50\n",
       "2  Andres Álvarez       50\n",
       "3      Luis Ramos       35\n",
       "4   Pedro Cadenas       45"
      ]
     },
     "execution_count": 8,
     "metadata": {},
     "output_type": "execute_result"
    }
   ],
   "source": [
    "Compradores.head()"
   ]
  },
  {
   "cell_type": "markdown",
   "id": "0f8c4e7a",
   "metadata": {},
   "source": [
    "**Imprime las últimas 2 líneas del DataFrame**"
   ]
  },
  {
   "cell_type": "code",
   "execution_count": 9,
   "id": "d99fce44",
   "metadata": {},
   "outputs": [
    {
     "data": {
      "text/html": [
       "<div>\n",
       "<style scoped>\n",
       "    .dataframe tbody tr th:only-of-type {\n",
       "        vertical-align: middle;\n",
       "    }\n",
       "\n",
       "    .dataframe tbody tr th {\n",
       "        vertical-align: top;\n",
       "    }\n",
       "\n",
       "    .dataframe thead th {\n",
       "        text-align: right;\n",
       "    }\n",
       "</style>\n",
       "<table border=\"1\" class=\"dataframe\">\n",
       "  <thead>\n",
       "    <tr style=\"text-align: right;\">\n",
       "      <th></th>\n",
       "      <th>Clientes</th>\n",
       "      <th>tarifas</th>\n",
       "    </tr>\n",
       "  </thead>\n",
       "  <tbody>\n",
       "    <tr>\n",
       "      <th>7</th>\n",
       "      <td>Susana Castro</td>\n",
       "      <td>50</td>\n",
       "    </tr>\n",
       "    <tr>\n",
       "      <th>8</th>\n",
       "      <td>Luis González</td>\n",
       "      <td>45</td>\n",
       "    </tr>\n",
       "  </tbody>\n",
       "</table>\n",
       "</div>"
      ],
      "text/plain": [
       "        Clientes  tarifas\n",
       "7  Susana Castro       50\n",
       "8  Luis González       45"
      ]
     },
     "execution_count": 9,
     "metadata": {},
     "output_type": "execute_result"
    }
   ],
   "source": [
    "Compradores.tail(2)"
   ]
  },
  {
   "cell_type": "markdown",
   "id": "63999689",
   "metadata": {},
   "source": [
    "**5)**\n",
    "\n",
    "De ese DataFrame, selecciona solamente la columna \"tarifas\" e imprímela \n",
    "\n",
    "(con 1 forma es suficiente, pero si sabes 2 mejor)"
   ]
  },
  {
   "cell_type": "code",
   "execution_count": 37,
   "id": "e2e49ceb",
   "metadata": {},
   "outputs": [
    {
     "data": {
      "text/html": [
       "<div>\n",
       "<style scoped>\n",
       "    .dataframe tbody tr th:only-of-type {\n",
       "        vertical-align: middle;\n",
       "    }\n",
       "\n",
       "    .dataframe tbody tr th {\n",
       "        vertical-align: top;\n",
       "    }\n",
       "\n",
       "    .dataframe thead th {\n",
       "        text-align: right;\n",
       "    }\n",
       "</style>\n",
       "<table border=\"1\" class=\"dataframe\">\n",
       "  <thead>\n",
       "    <tr style=\"text-align: right;\">\n",
       "      <th></th>\n",
       "      <th>tarifas</th>\n",
       "    </tr>\n",
       "  </thead>\n",
       "  <tbody>\n",
       "    <tr>\n",
       "      <th>0</th>\n",
       "      <td>40</td>\n",
       "    </tr>\n",
       "    <tr>\n",
       "      <th>1</th>\n",
       "      <td>50</td>\n",
       "    </tr>\n",
       "    <tr>\n",
       "      <th>2</th>\n",
       "      <td>50</td>\n",
       "    </tr>\n",
       "    <tr>\n",
       "      <th>3</th>\n",
       "      <td>35</td>\n",
       "    </tr>\n",
       "    <tr>\n",
       "      <th>4</th>\n",
       "      <td>45</td>\n",
       "    </tr>\n",
       "    <tr>\n",
       "      <th>5</th>\n",
       "      <td>50</td>\n",
       "    </tr>\n",
       "    <tr>\n",
       "      <th>6</th>\n",
       "      <td>60</td>\n",
       "    </tr>\n",
       "    <tr>\n",
       "      <th>7</th>\n",
       "      <td>50</td>\n",
       "    </tr>\n",
       "    <tr>\n",
       "      <th>8</th>\n",
       "      <td>45</td>\n",
       "    </tr>\n",
       "  </tbody>\n",
       "</table>\n",
       "</div>"
      ],
      "text/plain": [
       "   tarifas\n",
       "0       40\n",
       "1       50\n",
       "2       50\n",
       "3       35\n",
       "4       45\n",
       "5       50\n",
       "6       60\n",
       "7       50\n",
       "8       45"
      ]
     },
     "execution_count": 37,
     "metadata": {},
     "output_type": "execute_result"
    }
   ],
   "source": [
    "\n",
    "Compradores[[\"tarifas\"]]"
   ]
  },
  {
   "cell_type": "markdown",
   "id": "859373ae",
   "metadata": {},
   "source": [
    "**6)**\n",
    "\n",
    "**Descomenta las siguientes líneas**\n",
    "\n",
    "**(algunos trucos y cosas útiles)**"
   ]
  },
  {
   "cell_type": "code",
   "execution_count": 11,
   "id": "436a8d72",
   "metadata": {},
   "outputs": [
    {
     "data": {
      "text/plain": [
       "50    4\n",
       "45    2\n",
       "40    1\n",
       "35    1\n",
       "60    1\n",
       "Name: tarifas, dtype: int64"
      ]
     },
     "execution_count": 11,
     "metadata": {},
     "output_type": "execute_result"
    }
   ],
   "source": [
    " Compradores.tarifas.value_counts()"
   ]
  },
  {
   "cell_type": "code",
   "execution_count": 12,
   "id": "91424ee2",
   "metadata": {},
   "outputs": [
    {
     "data": {
      "text/plain": [
       "<AxesSubplot:>"
      ]
     },
     "execution_count": 12,
     "metadata": {},
     "output_type": "execute_result"
    },
    {
     "data": {
      "image/png": "[encoded data removed]",
      "text/plain": [
       "<Figure size 432x288 with 1 Axes>"
      ]
     },
     "metadata": {
      "needs_background": "light"
     },
     "output_type": "display_data"
    }
   ],
   "source": [
    " Compradores.tarifas.value_counts().plot(kind=\"bar\")"
   ]
  },
  {
   "cell_type": "code",
   "execution_count": 33,
   "id": "8ca87074",
   "metadata": {},
   "outputs": [
    {
     "data": {
      "text/plain": [
       "<AxesSubplot:>"
      ]
     },
     "execution_count": 33,
     "metadata": {},
     "output_type": "execute_result"
    },
    {
     "data": {
      "image/png": "[encoded data removed]",
      "text/plain": [
       "<Figure size 432x288 with 1 Axes>"
      ]
     },
     "metadata": {
      "needs_background": "light"
     },
     "output_type": "display_data"
    }
   ],
   "source": [
    "Compradores.tarifas.plot(kind=\"line\")"
   ]
  },
  {
   "cell_type": "markdown",
   "id": "72181e04",
   "metadata": {},
   "source": [
    "**Imprime nuevamente df**"
   ]
  },
  {
   "cell_type": "code",
   "execution_count": 14,
   "id": "a788dc20",
   "metadata": {},
   "outputs": [
    {
     "data": {
      "text/html": [
       "<div>\n",
       "<style scoped>\n",
       "    .dataframe tbody tr th:only-of-type {\n",
       "        vertical-align: middle;\n",
       "    }\n",
       "\n",
       "    .dataframe tbody tr th {\n",
       "        vertical-align: top;\n",
       "    }\n",
       "\n",
       "    .dataframe thead th {\n",
       "        text-align: right;\n",
       "    }\n",
       "</style>\n",
       "<table border=\"1\" class=\"dataframe\">\n",
       "  <thead>\n",
       "    <tr style=\"text-align: right;\">\n",
       "      <th></th>\n",
       "      <th>Clientes</th>\n",
       "      <th>tarifas</th>\n",
       "    </tr>\n",
       "  </thead>\n",
       "  <tbody>\n",
       "    <tr>\n",
       "      <th>0</th>\n",
       "      <td>Ana Pérez</td>\n",
       "      <td>40</td>\n",
       "    </tr>\n",
       "    <tr>\n",
       "      <th>1</th>\n",
       "      <td>Juan García</td>\n",
       "      <td>50</td>\n",
       "    </tr>\n",
       "    <tr>\n",
       "      <th>2</th>\n",
       "      <td>Andres Álvarez</td>\n",
       "      <td>50</td>\n",
       "    </tr>\n",
       "    <tr>\n",
       "      <th>3</th>\n",
       "      <td>Luis Ramos</td>\n",
       "      <td>35</td>\n",
       "    </tr>\n",
       "    <tr>\n",
       "      <th>4</th>\n",
       "      <td>Pedro Cadenas</td>\n",
       "      <td>45</td>\n",
       "    </tr>\n",
       "    <tr>\n",
       "      <th>5</th>\n",
       "      <td>Estefanía Miguélez</td>\n",
       "      <td>50</td>\n",
       "    </tr>\n",
       "    <tr>\n",
       "      <th>6</th>\n",
       "      <td>Alberto Delgado</td>\n",
       "      <td>60</td>\n",
       "    </tr>\n",
       "    <tr>\n",
       "      <th>7</th>\n",
       "      <td>Susana Castro</td>\n",
       "      <td>50</td>\n",
       "    </tr>\n",
       "    <tr>\n",
       "      <th>8</th>\n",
       "      <td>Luis González</td>\n",
       "      <td>45</td>\n",
       "    </tr>\n",
       "  </tbody>\n",
       "</table>\n",
       "</div>"
      ],
      "text/plain": [
       "             Clientes  tarifas\n",
       "0           Ana Pérez       40\n",
       "1         Juan García       50\n",
       "2      Andres Álvarez       50\n",
       "3          Luis Ramos       35\n",
       "4       Pedro Cadenas       45\n",
       "5  Estefanía Miguélez       50\n",
       "6     Alberto Delgado       60\n",
       "7       Susana Castro       50\n",
       "8       Luis González       45"
      ]
     },
     "execution_count": 14,
     "metadata": {},
     "output_type": "execute_result"
    }
   ],
   "source": [
    "Compradores"
   ]
  },
  {
   "cell_type": "markdown",
   "id": "ab7a3fd6",
   "metadata": {},
   "source": [
    "**Descomenta la línea siguiente**"
   ]
  },
  {
   "cell_type": "code",
   "execution_count": 32,
   "id": "0d46d6aa",
   "metadata": {},
   "outputs": [],
   "source": [
    "Compradores.tarifas.plot?"
   ]
  },
  {
   "cell_type": "markdown",
   "id": "8a4a49a7",
   "metadata": {},
   "source": [
    "**7)**\n",
    "\n",
    "De ese DataFrame, selecciona solamente aquellos clientes con tarifa superior a 50 euros \n",
    "\n",
    "(50 no incluído)"
   ]
  },
  {
   "cell_type": "code",
   "execution_count": 16,
   "id": "1508be14",
   "metadata": {},
   "outputs": [
    {
     "data": {
      "text/html": [
       "<div>\n",
       "<style scoped>\n",
       "    .dataframe tbody tr th:only-of-type {\n",
       "        vertical-align: middle;\n",
       "    }\n",
       "\n",
       "    .dataframe tbody tr th {\n",
       "        vertical-align: top;\n",
       "    }\n",
       "\n",
       "    .dataframe thead th {\n",
       "        text-align: right;\n",
       "    }\n",
       "</style>\n",
       "<table border=\"1\" class=\"dataframe\">\n",
       "  <thead>\n",
       "    <tr style=\"text-align: right;\">\n",
       "      <th></th>\n",
       "      <th>Clientes</th>\n",
       "      <th>tarifas</th>\n",
       "    </tr>\n",
       "  </thead>\n",
       "  <tbody>\n",
       "    <tr>\n",
       "      <th>6</th>\n",
       "      <td>Alberto Delgado</td>\n",
       "      <td>60</td>\n",
       "    </tr>\n",
       "  </tbody>\n",
       "</table>\n",
       "</div>"
      ],
      "text/plain": [
       "          Clientes  tarifas\n",
       "6  Alberto Delgado       60"
      ]
     },
     "execution_count": 16,
     "metadata": {},
     "output_type": "execute_result"
    }
   ],
   "source": [
    "Mas50 = Compradores[Compradores[\"tarifas\"] > 50]\n",
    "Mas50"
   ]
  },
  {
   "cell_type": "markdown",
   "id": "1f11af5a",
   "metadata": {},
   "source": [
    "De ese DataFrame, selecciona solamente aquellos clientes con tarifa menor o igual de 30 euros\n",
    "\n",
    "(30 incluido)"
   ]
  },
  {
   "cell_type": "code",
   "execution_count": 17,
   "id": "12887a11",
   "metadata": {},
   "outputs": [
    {
     "data": {
      "text/html": [
       "<div>\n",
       "<style scoped>\n",
       "    .dataframe tbody tr th:only-of-type {\n",
       "        vertical-align: middle;\n",
       "    }\n",
       "\n",
       "    .dataframe tbody tr th {\n",
       "        vertical-align: top;\n",
       "    }\n",
       "\n",
       "    .dataframe thead th {\n",
       "        text-align: right;\n",
       "    }\n",
       "</style>\n",
       "<table border=\"1\" class=\"dataframe\">\n",
       "  <thead>\n",
       "    <tr style=\"text-align: right;\">\n",
       "      <th></th>\n",
       "      <th>Clientes</th>\n",
       "      <th>tarifas</th>\n",
       "    </tr>\n",
       "  </thead>\n",
       "  <tbody>\n",
       "  </tbody>\n",
       "</table>\n",
       "</div>"
      ],
      "text/plain": [
       "Empty DataFrame\n",
       "Columns: [Clientes, tarifas]\n",
       "Index: []"
      ]
     },
     "execution_count": 17,
     "metadata": {},
     "output_type": "execute_result"
    }
   ],
   "source": [
    "Menequal30 = Compradores[Compradores[\"tarifas\"] <= 30]\n",
    "Menequal30"
   ]
  },
  {
   "cell_type": "markdown",
   "id": "f19b1399",
   "metadata": {},
   "source": [
    "# Ejercicio 2"
   ]
  },
  {
   "cell_type": "markdown",
   "id": "bf944d4e",
   "metadata": {},
   "source": [
    "**Número par o impar**"
   ]
  },
  {
   "cell_type": "markdown",
   "id": "0972850d",
   "metadata": {},
   "source": [
    "Prueba para los números 6 y 3"
   ]
  },
  {
   "cell_type": "markdown",
   "id": "4f8a7d6f",
   "metadata": {},
   "source": [
    "Realiza un algortimo para saber si son pares o impares"
   ]
  },
  {
   "cell_type": "code",
   "execution_count": 38,
   "id": "62b407f9",
   "metadata": {},
   "outputs": [
    {
     "name": "stdout",
     "output_type": "stream",
     "text": [
      "El numero 3 no es par\n",
      "El numero 6 es par\n"
     ]
    }
   ],
   "source": [
    "\n",
    "def espar(num):\n",
    "   if num %2 ==0:\n",
    "       return(f\"El numero {num} es par\")\n",
    "   else:\n",
    "       return(f\"El numero {num} no es par\")       \n",
    "print(espar(3)) \n",
    "print(espar(6))"
   ]
  },
  {
   "cell_type": "markdown",
   "id": "42c8cdc7",
   "metadata": {},
   "source": [
    "# Ejercicio 3"
   ]
  },
  {
   "cell_type": "markdown",
   "id": "5821cfdc",
   "metadata": {},
   "source": [
    "**Intercambio de valores entre variables**"
   ]
  },
  {
   "cell_type": "markdown",
   "id": "9ad2ae76",
   "metadata": {},
   "source": [
    "Siendo por ejemplo:\n",
    "* x = 3 e y = 2"
   ]
  },
  {
   "cell_type": "markdown",
   "id": "4cc17f49",
   "metadata": {},
   "source": [
    "Se pide hacer un pequeño algoritmo que me intercambie esos valores.\n",
    "\n",
    "Y que sea el resultado:\n",
    "* x = 2 e y = 3"
   ]
  },
  {
   "cell_type": "code",
   "execution_count": 19,
   "id": "8ad13b43",
   "metadata": {},
   "outputs": [
    {
     "name": "stdout",
     "output_type": "stream",
     "text": [
      "la x ahora es: 3\n",
      "la y ahora es: 2\n"
     ]
    }
   ],
   "source": [
    "x = 2 \n",
    "y = 3\n",
    "z = 0\n",
    "z = x\n",
    "x = y\n",
    "y = z\n",
    "del z\n",
    "print(f\"la x ahora es: {x}\")\n",
    "print(f\"la y ahora es: {y}\")"
   ]
  },
  {
   "cell_type": "code",
   "execution_count": 20,
   "id": "92231fe4",
   "metadata": {},
   "outputs": [],
   "source": [
    "#**1)** Hazlo sin funciones**"
   ]
  },
  {
   "cell_type": "code",
   "execution_count": 21,
   "id": "e2a6f440",
   "metadata": {},
   "outputs": [],
   "source": [
    "#©2)** Hazlo mismo con una función◊"
   ]
  },
  {
   "cell_type": "code",
   "execution_count": 29,
   "id": "bb2ffc7c",
   "metadata": {},
   "outputs": [
    {
     "data": {
      "text/plain": [
       "'El nuevo valor de x es: 3 y el nuevo valor de y es: 2'"
      ]
     },
     "execution_count": 29,
     "metadata": {},
     "output_type": "execute_result"
    }
   ],
   "source": [
    "x = 2\n",
    "y = 3\n",
    "def cambio(x, y):\n",
    "    x , y = y , x\n",
    "    return (f\"El nuevo valor de x es: {x} y el nuevo valor de y es: {y}\")\n",
    "    \n",
    "\n",
    "cambio(x, y)    \n",
    "    "
   ]
  },
  {
   "cell_type": "code",
   "execution_count": 23,
   "id": "c0e9771e",
   "metadata": {},
   "outputs": [
    {
     "ename": "SyntaxError",
     "evalue": "invalid syntax (1754663334.py, line 1)",
     "output_type": "error",
     "traceback": [
      "\u001b[0;36m  File \u001b[0;32m\"/var/folders/jw/lg6ll5ln5sx8l3dbpj7412480000gn/T/ipykernel_56087/1754663334.py\"\u001b[0;36m, line \u001b[0;32m1\u001b[0m\n\u001b[0;31m    *Creado por*\u001b[0m\n\u001b[0m            ^\u001b[0m\n\u001b[0;31mSyntaxError\u001b[0m\u001b[0;31m:\u001b[0m invalid syntax\n"
     ]
    }
   ],
   "source": [
    "*Creado por*\n",
    "\n",
    "*Isabel Maniega*"
   ]
  },
  {
   "cell_type": "code",
   "execution_count": null,
   "id": "9448aa78",
   "metadata": {},
   "outputs": [],
   "source": []
  },
  {
   "cell_type": "code",
   "execution_count": null,
   "id": "0f02fab1",
   "metadata": {},
   "outputs": [],
   "source": []
  },
  {
   "cell_type": "code",
   "execution_count": null,
   "id": "23ebb6ae",
   "metadata": {},
   "outputs": [],
   "source": []
  },
  {
   "cell_type": "code",
   "execution_count": null,
   "id": "9d282711",
   "metadata": {},
   "outputs": [],
   "source": []
  }
 ],
 "metadata": {
  "kernelspec": {
   "display_name": "Python 3 (ipykernel)",
   "language": "python",
   "name": "python3"
  },
  "language_info": {
   "codemirror_mode": {
    "name": "ipython",
    "version": 3
   },
   "file_extension": ".py",
   "mimetype": "text/x-python",
   "name": "python",
   "nbconvert_exporter": "python",
   "pygments_lexer": "ipython3",
   "version": "3.9.7"
  }
 },
 "nbformat": 4,
 "nbformat_minor": 5
}
