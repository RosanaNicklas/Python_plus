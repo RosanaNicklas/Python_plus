{
 "cells": [
  {
   "cell_type": "markdown",
   "id": "65997267",
   "metadata": {},
   "source": [
    "Funciones se definen:\n",
    "def nombre de la funcion():\n",
    "Concepto de funcion general"
   ]
  },
  {
   "cell_type": "code",
   "execution_count": 1,
   "id": "9c49819a",
   "metadata": {},
   "outputs": [],
   "source": [
    "#definir funcion:\n",
    "def funcion_suma(x):\n",
    "    y = x + 20\n",
    "    return y\n",
    "    "
   ]
  },
  {
   "cell_type": "code",
   "execution_count": 2,
   "id": "76f8cbe4",
   "metadata": {},
   "outputs": [
    {
     "data": {
      "text/plain": [
       "25"
      ]
     },
     "execution_count": 2,
     "metadata": {},
     "output_type": "execute_result"
    }
   ],
   "source": [
    "funcion_suma(5)"
   ]
  },
  {
   "cell_type": "code",
   "execution_count": 3,
   "id": "58698cd0",
   "metadata": {},
   "outputs": [
    {
     "data": {
      "text/plain": [
       "25"
      ]
     },
     "execution_count": 3,
     "metadata": {},
     "output_type": "execute_result"
    }
   ],
   "source": [
    "###Funcion Lambda\n",
    "def funcion_sum(x):\n",
    "    return x + 20\n",
    "funcion_sum(5)"
   ]
  },
  {
   "cell_type": "code",
   "execution_count": 4,
   "id": "d6a70275",
   "metadata": {},
   "outputs": [
    {
     "data": {
      "text/plain": [
       "25"
      ]
     },
     "execution_count": 4,
     "metadata": {},
     "output_type": "execute_result"
    }
   ],
   "source": [
    "#con lambda\n",
    "(lambda x: x + 20)(5)"
   ]
  },
  {
   "cell_type": "code",
   "execution_count": 5,
   "id": "0b72f2ed",
   "metadata": {},
   "outputs": [
    {
     "data": {
      "text/plain": [
       "[2, 5, 7, 9, 12, 25, -6]"
      ]
     },
     "execution_count": 5,
     "metadata": {},
     "output_type": "execute_result"
    }
   ],
   "source": [
    "#break,continue,pass\n",
    "L = [2, 5, 7, 9, 12, 25, -6]\n",
    "L"
   ]
  },
  {
   "cell_type": "code",
   "execution_count": 6,
   "id": "245072a0",
   "metadata": {},
   "outputs": [
    {
     "name": "stdout",
     "output_type": "stream",
     "text": [
      "2\n",
      "5\n",
      "7\n",
      "\n",
      "\n",
      "hemos llegado al valor 9, y salio del bucle for\n"
     ]
    }
   ],
   "source": [
    "for numero in L:\n",
    "    if numero == 9:\n",
    "        print(\"\\n\")\n",
    "        break #rompe el bucle for\n",
    "    else: \n",
    "        print(numero)\n",
    "print(\"hemos llegado al valor 9, y salio del bucle for\")\n",
    "#2,5,7 los imprime\n",
    "#9 lo salta y no lo imprime\n",
    "#12,25,-6 no se imprimen"
   ]
  },
  {
   "cell_type": "markdown",
   "id": "1d0447e1",
   "metadata": {},
   "source": [
    "**clases**"
   ]
  },
  {
   "cell_type": "code",
   "execution_count": 7,
   "id": "9173af63",
   "metadata": {},
   "outputs": [],
   "source": [
    "#definir una clase\n",
    "class Python:\n",
    "    def funcion_imprimir(y):\n",
    "        print(\"Estamos aqui en la funcion imprimir: \", y)\n",
    "    def funcion_suma():\n",
    "        x = 2\n",
    "        y = 4\n",
    "        z = x + y\n",
    "        print(f\"estamos en la funcion suma y la suma de: {x} e {y} es {z}\")"
   ]
  },
  {
   "cell_type": "code",
   "execution_count": 8,
   "id": "1f41b67f",
   "metadata": {},
   "outputs": [
    {
     "name": "stdout",
     "output_type": "stream",
     "text": [
      "Estamos aqui en la funcion imprimir:  8\n"
     ]
    }
   ],
   "source": [
    "Python.funcion_imprimir(8)"
   ]
  },
  {
   "cell_type": "code",
   "execution_count": 9,
   "id": "88bfefa2",
   "metadata": {},
   "outputs": [
    {
     "name": "stdout",
     "output_type": "stream",
     "text": [
      "estamos en la funcion suma y la suma de: 2 e 4 es 6\n"
     ]
    }
   ],
   "source": [
    "Python.funcion_suma()"
   ]
  },
  {
   "cell_type": "markdown",
   "id": "f5cd9902",
   "metadata": {},
   "source": [
    "**##Programacion orientada a objetos (POO)##**"
   ]
  },
  {
   "cell_type": "code",
   "execution_count": 11,
   "id": "10156ebc",
   "metadata": {},
   "outputs": [],
   "source": [
    "class Empleado:\n",
    "# funciones se les llama MÉTODOS.\n",
    "# variables se les llama ATRIBUTOS\n",
    "# Init se pone con (__) dos baras bajas:\n",
    "    def __init__(self, Id, Name, Age, Role):\n",
    "        self.Id = Id\n",
    "        self.Name = Name\n",
    "        self.Age = Age\n",
    "        self.Role = Role\n",
    "# Instancio\n",
    "# genero tantos clientes/empleados como quiera de esta forma\n",
    "# empleado1 es el objeto1\n",
    "empleado1 = Empleado(1, \"Ana\", 30, \"Ingeniera\")\n",
    "empleado2 = Empleado(2, \"Pedro\", 26, \"Arquitecto\")\n",
    "empleado3 = Empleado(3, \"Maria\", 54, \"Abogado\")\n",
    "    "
   ]
  },
  {
   "cell_type": "code",
   "execution_count": 13,
   "id": "93d3ccc3",
   "metadata": {},
   "outputs": [
    {
     "data": {
      "text/plain": [
       "30"
      ]
     },
     "execution_count": 13,
     "metadata": {},
     "output_type": "execute_result"
    }
   ],
   "source": [
    "#edad empleado 1 y trabajo empleado2\n",
    "empleado1.Age\n",
    "#empleado2.Role\n",
    "\n"
   ]
  },
  {
   "cell_type": "code",
   "execution_count": 14,
   "id": "de491159",
   "metadata": {},
   "outputs": [
    {
     "name": "stdout",
     "output_type": "stream",
     "text": [
      "w no esta definida, no podemos imprimirla\n"
     ]
    }
   ],
   "source": [
    "try:\n",
    "    print(w)\n",
    "except:\n",
    "    print(\"w no esta definida, no podemos imprimirla\")"
   ]
  },
  {
   "cell_type": "code",
   "execution_count": 20,
   "id": "403fd710",
   "metadata": {},
   "outputs": [
    {
     "ename": "SyntaxError",
     "evalue": "unexpected EOF while parsing (1615733187.py, line 4)",
     "output_type": "error",
     "traceback": [
      "\u001b[0;36m  File \u001b[0;32m\"/var/folders/jw/lg6ll5ln5sx8l3dbpj7412480000gn/T/ipykernel_12136/1615733187.py\"\u001b[0;36m, line \u001b[0;32m4\u001b[0m\n\u001b[0;31m    print(\"\"### Error: %s\" %str(e))\u001b[0m\n\u001b[0m                                   ^\u001b[0m\n\u001b[0;31mSyntaxError\u001b[0m\u001b[0;31m:\u001b[0m unexpected EOF while parsing\n"
     ]
    }
   ],
   "source": [
    "try:\n",
    "    print(w)\n",
    "except Exception as e:\n",
    "    print(\"\"### Error: %s\" %str(e))"
   ]
  },
  {
   "cell_type": "code",
   "execution_count": null,
   "id": "27d111c4",
   "metadata": {},
   "outputs": [],
   "source": []
  }
 ],
 "metadata": {
  "kernelspec": {
   "display_name": "Python 3 (ipykernel)",
   "language": "python",
   "name": "python3"
  },
  "language_info": {
   "codemirror_mode": {
    "name": "ipython",
    "version": 3
   },
   "file_extension": ".py",
   "mimetype": "text/x-python",
   "name": "python",
   "nbconvert_exporter": "python",
   "pygments_lexer": "ipython3",
   "version": "3.9.7"
  }
 },
 "nbformat": 4,
 "nbformat_minor": 5
}
