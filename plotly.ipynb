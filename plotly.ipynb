{
 "cells": [
  {
   "cell_type": "code",
   "execution_count": null,
   "id": "a930214f",
   "metadata": {},
   "outputs": [],
   "source": [
    "#pip install plotly.express"
   ]
  },
  {
   "cell_type": "code",
   "execution_count": null,
   "id": "fd701b71",
   "metadata": {},
   "outputs": [],
   "source": [
    "import plotly.express as px\n",
    "import matplotlib.pyplot as plt"
   ]
  },
  {
   "cell_type": "code",
   "execution_count": null,
   "id": "dc7ce162",
   "metadata": {},
   "outputs": [],
   "source": [
    "df = px.data.iris{}\n",
    "print(df)"
   ]
  },
  {
   "cell_type": "code",
   "execution_count": null,
   "id": "3515e99c",
   "metadata": {},
   "outputs": [],
   "source": [
    "figure = df.sepal_length.plot(kind ='scatter')\n",
    "plt.show()"
   ]
  },
  {
   "cell_type": "code",
   "execution_count": null,
   "id": "e622da4f",
   "metadata": {},
   "outputs": [],
   "source": [
    "figure2 = df.sepal_length.plot(kind ='bar')\n",
    "plt.show()"
   ]
  },
  {
   "cell_type": "code",
   "execution_count": null,
   "id": "759148fb",
   "metadata": {},
   "outputs": [],
   "source": [
    "versicolor = df[df[\"species_id\"] ==2]"
   ]
  },
  {
   "cell_type": "code",
   "execution_count": null,
   "id": "12258020",
   "metadata": {},
   "outputs": [],
   "source": [
    "figure3 = df.species.id.plot(kind ='bar')\n",
    "plt.show()"
   ]
  },
  {
   "cell_type": "code",
   "execution_count": null,
   "id": "eff6e243",
   "metadata": {},
   "outputs": [],
   "source": [
    "figure3 = versicolor.plot(kind ='bar')\n",
    "plt.show()"
   ]
  }
 ],
 "metadata": {
  "kernelspec": {
   "display_name": "Python 3 (ipykernel)",
   "language": "python",
   "name": "python3"
  },
  "language_info": {
   "codemirror_mode": {
    "name": "ipython",
    "version": 3
   },
   "file_extension": ".py",
   "mimetype": "text/x-python",
   "name": "python",
   "nbconvert_exporter": "python",
   "pygments_lexer": "ipython3",
   "version": "3.8.10"
  }
 },
 "nbformat": 4,
 "nbformat_minor": 5
}
