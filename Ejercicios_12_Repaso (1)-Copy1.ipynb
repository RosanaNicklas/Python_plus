{
 "cells": [
  {
   "cell_type": "markdown",
   "id": "0f66b64f",
   "metadata": {},
   "source": [
    "*Creado por:*\n",
    "\n",
    "*Isabel Maniega*"
   ]
  },
  {
   "cell_type": "markdown",
   "id": "cb42de4b",
   "metadata": {},
   "source": [
    "# Ejercicio 1"
   ]
  },
  {
   "cell_type": "markdown",
   "id": "fa505f94",
   "metadata": {},
   "source": [
    "**1)**\n",
    "\n",
    "**Haz un programa que calcule los múltiplos de 3**\n",
    "\n",
    "* Para ello primero primero debe preguntarse al usuario cuántos múltiplos desea añadir. \n",
    "\n",
    "* Nota: Puedes usar un bucle while si lo deseas"
   ]
  },
  {
   "cell_type": "code",
   "execution_count": 1,
   "id": "6c74a181",
   "metadata": {},
   "outputs": [
    {
     "name": "stdout",
     "output_type": "stream",
     "text": [
      "Cuantos multiplos de tres quieres añadir? 5\n",
      "3\n",
      "6\n",
      "9\n",
      "12\n",
      "15\n"
     ]
    }
   ],
   "source": [
    "num = int(input(\"Cuantos multiplos de tres quieres añadir? \"))\n",
    "for i in range(1, num+1):\n",
    "        print(i * 3)\n",
    "    "
   ]
  },
  {
   "cell_type": "code",
   "execution_count": 2,
   "id": "e2ef2347",
   "metadata": {},
   "outputs": [
    {
     "name": "stdout",
     "output_type": "stream",
     "text": [
      "Cuantos multiplos de tres quieres añadir? 4\n",
      "el numero 3 es multiplo de tres\n",
      "el numero 6 es multiplo de tres\n",
      "el numero 9 es multiplo de tres\n",
      "el numero 12 es multiplo de tres\n"
     ]
    }
   ],
   "source": [
    "num = int(input(\"Cuantos multiplos de tres quieres añadir? \"))\n",
    "lista =[]\n",
    "i = 1\n",
    "while i < num + 1:\n",
    "    print(f\"el numero {i * 3} es multiplo de tres\")\n",
    "    lista.append(i)\n",
    "    i+=1\n",
    "    "
   ]
  },
  {
   "cell_type": "markdown",
   "id": "64fb6de1",
   "metadata": {},
   "source": [
    "**2)**\n",
    "\n",
    "**Haz lo mismo con np.arange**"
   ]
  },
  {
   "cell_type": "code",
   "execution_count": 3,
   "id": "c29b3954",
   "metadata": {},
   "outputs": [
    {
     "name": "stdout",
     "output_type": "stream",
     "text": [
      "Cuantos multiplos de tres quieres añadir? 5\n"
     ]
    },
    {
     "data": {
      "text/plain": [
       "[3, 6, 9, 12, 15]"
      ]
     },
     "execution_count": 3,
     "metadata": {},
     "output_type": "execute_result"
    }
   ],
   "source": [
    "import numpy as np\n",
    "num = int(input(\"Cuantos multiplos de tres quieres añadir? \"))\n",
    "a = np.arange(num + 1)\n",
    "dale = [(i * 3) for i in a if i > 0]\n",
    "dale\n"
   ]
  },
  {
   "cell_type": "markdown",
   "id": "6313a3c5",
   "metadata": {},
   "source": [
    "# Ejercicio 2"
   ]
  },
  {
   "cell_type": "markdown",
   "id": "a4894348",
   "metadata": {},
   "source": [
    "Dada esta lista de variable \"listado\" y \"valores\": 10, 10, 20, 20, 20, 30, 40\n",
    "\n",
    "Se pide:"
   ]
  },
  {
   "cell_type": "code",
   "execution_count": 4,
   "id": "b45f06b7",
   "metadata": {},
   "outputs": [
    {
     "data": {
      "text/plain": [
       "[10, 10, 20, 20, 20, 30, 40]"
      ]
     },
     "execution_count": 4,
     "metadata": {},
     "output_type": "execute_result"
    }
   ],
   "source": [
    "L = [10, 10, 20, 20, 20, 30, 40]\n",
    "L"
   ]
  },
  {
   "cell_type": "markdown",
   "id": "4a90c26f",
   "metadata": {},
   "source": [
    "**1)**\n",
    "\n",
    "Crea un DataFrame con esa información e imprímelo"
   ]
  },
  {
   "cell_type": "code",
   "execution_count": 5,
   "id": "f4b8fa93",
   "metadata": {},
   "outputs": [],
   "source": [
    "import pandas as pd"
   ]
  },
  {
   "cell_type": "code",
   "execution_count": 6,
   "id": "4d74ad31",
   "metadata": {},
   "outputs": [
    {
     "data": {
      "text/html": [
       "<div>\n",
       "<style scoped>\n",
       "    .dataframe tbody tr th:only-of-type {\n",
       "        vertical-align: middle;\n",
       "    }\n",
       "\n",
       "    .dataframe tbody tr th {\n",
       "        vertical-align: top;\n",
       "    }\n",
       "\n",
       "    .dataframe thead th {\n",
       "        text-align: right;\n",
       "    }\n",
       "</style>\n",
       "<table border=\"1\" class=\"dataframe\">\n",
       "  <thead>\n",
       "    <tr style=\"text-align: right;\">\n",
       "      <th></th>\n",
       "      <th>Valores</th>\n",
       "    </tr>\n",
       "  </thead>\n",
       "  <tbody>\n",
       "    <tr>\n",
       "      <th>0</th>\n",
       "      <td>10</td>\n",
       "    </tr>\n",
       "    <tr>\n",
       "      <th>1</th>\n",
       "      <td>10</td>\n",
       "    </tr>\n",
       "    <tr>\n",
       "      <th>2</th>\n",
       "      <td>20</td>\n",
       "    </tr>\n",
       "    <tr>\n",
       "      <th>3</th>\n",
       "      <td>20</td>\n",
       "    </tr>\n",
       "    <tr>\n",
       "      <th>4</th>\n",
       "      <td>20</td>\n",
       "    </tr>\n",
       "    <tr>\n",
       "      <th>5</th>\n",
       "      <td>30</td>\n",
       "    </tr>\n",
       "    <tr>\n",
       "      <th>6</th>\n",
       "      <td>40</td>\n",
       "    </tr>\n",
       "  </tbody>\n",
       "</table>\n",
       "</div>"
      ],
      "text/plain": [
       "   Valores\n",
       "0       10\n",
       "1       10\n",
       "2       20\n",
       "3       20\n",
       "4       20\n",
       "5       30\n",
       "6       40"
      ]
     },
     "execution_count": 6,
     "metadata": {},
     "output_type": "execute_result"
    }
   ],
   "source": [
    "df = pd.DataFrame(L, columns = [\"Valores\"])\n",
    "df"
   ]
  },
  {
   "cell_type": "markdown",
   "id": "f4950685",
   "metadata": {},
   "source": [
    "**2)**\n",
    "\n",
    "Usa value_counts() para determinar cuántas repeticiones hay de cada número en esa columna"
   ]
  },
  {
   "cell_type": "code",
   "execution_count": 7,
   "id": "3c17d997",
   "metadata": {},
   "outputs": [
    {
     "data": {
      "text/plain": [
       "Valores\n",
       "20         3\n",
       "10         2\n",
       "30         1\n",
       "40         1\n",
       "dtype: int64"
      ]
     },
     "execution_count": 7,
     "metadata": {},
     "output_type": "execute_result"
    }
   ],
   "source": [
    "df.value_counts()"
   ]
  },
  {
   "cell_type": "markdown",
   "id": "dc316d91",
   "metadata": {},
   "source": [
    "**3)**\n",
    "\n",
    "Haz un \".shape\" a esa información del value_counts()\n",
    "\n",
    "NOTA:\n",
    "\n",
    "Escribe: .shape justo al final"
   ]
  },
  {
   "cell_type": "code",
   "execution_count": 8,
   "id": "627a953e",
   "metadata": {},
   "outputs": [
    {
     "data": {
      "text/plain": [
       "(4,)"
      ]
     },
     "execution_count": 8,
     "metadata": {},
     "output_type": "execute_result"
    }
   ],
   "source": [
    "df.value_counts().shape"
   ]
  },
  {
   "cell_type": "markdown",
   "id": "959086c0",
   "metadata": {},
   "source": [
    "**4)**\n",
    "\n",
    "A esa misma instrucción con value_counts() escribe al final \".values\"\n",
    "\n",
    "Y veras la información..\n",
    "\n",
    "pasa esa información a lista si puedes\n",
    "\n",
    "y guarda ese listado como \"repeticiones\""
   ]
  },
  {
   "cell_type": "code",
   "execution_count": 9,
   "id": "35869ffd",
   "metadata": {},
   "outputs": [
    {
     "data": {
      "text/plain": [
       "[3, 2, 1, 1]"
      ]
     },
     "execution_count": 9,
     "metadata": {},
     "output_type": "execute_result"
    }
   ],
   "source": [
    "repeticionas = df.value_counts().values\n",
    "repeticiones = list(repeticionas)\n",
    "repeticiones"
   ]
  },
  {
   "cell_type": "markdown",
   "id": "a9ac494d",
   "metadata": {},
   "source": [
    "**5)**\n",
    "\n",
    "A esa información de value_counts() añade al final \".index\"\n",
    "\n",
    "Y pasa posteriormente a lista esa información\n",
    "\n",
    "y guarda ese listado con el nombre: \"valores\""
   ]
  },
  {
   "cell_type": "code",
   "execution_count": 10,
   "id": "01171835",
   "metadata": {},
   "outputs": [
    {
     "data": {
      "text/plain": [
       "[(20,), (10,), (30,), (40,)]"
      ]
     },
     "execution_count": 10,
     "metadata": {},
     "output_type": "execute_result"
    }
   ],
   "source": [
    "valoras = df.value_counts().index\n",
    "valores = list(valoras)\n",
    "valores\n",
    "   "
   ]
  },
  {
   "cell_type": "markdown",
   "id": "26ad2ef5",
   "metadata": {},
   "source": [
    "**6)**\n",
    "\n",
    "Crea un DataFrame con 2 columnas, \n",
    "\n",
    "1 para \"valores\"\n",
    "\n",
    "1 para \"repeticiones\"\n",
    "\n",
    "llámalo: \"df_value_counts\" (por ejemplo)\n",
    "\n",
    "Y observa.."
   ]
  },
  {
   "cell_type": "code",
   "execution_count": 11,
   "id": "4f0ed78d",
   "metadata": {},
   "outputs": [
    {
     "data": {
      "text/html": [
       "<div>\n",
       "<style scoped>\n",
       "    .dataframe tbody tr th:only-of-type {\n",
       "        vertical-align: middle;\n",
       "    }\n",
       "\n",
       "    .dataframe tbody tr th {\n",
       "        vertical-align: top;\n",
       "    }\n",
       "\n",
       "    .dataframe thead th {\n",
       "        text-align: right;\n",
       "    }\n",
       "</style>\n",
       "<table border=\"1\" class=\"dataframe\">\n",
       "  <thead>\n",
       "    <tr style=\"text-align: right;\">\n",
       "      <th></th>\n",
       "      <th>valores</th>\n",
       "      <th>repeticiones</th>\n",
       "    </tr>\n",
       "  </thead>\n",
       "  <tbody>\n",
       "    <tr>\n",
       "      <th>0</th>\n",
       "      <td>(20,)</td>\n",
       "      <td>3</td>\n",
       "    </tr>\n",
       "    <tr>\n",
       "      <th>1</th>\n",
       "      <td>(10,)</td>\n",
       "      <td>2</td>\n",
       "    </tr>\n",
       "    <tr>\n",
       "      <th>2</th>\n",
       "      <td>(30,)</td>\n",
       "      <td>1</td>\n",
       "    </tr>\n",
       "    <tr>\n",
       "      <th>3</th>\n",
       "      <td>(40,)</td>\n",
       "      <td>1</td>\n",
       "    </tr>\n",
       "  </tbody>\n",
       "</table>\n",
       "</div>"
      ],
      "text/plain": [
       "  valores  repeticiones\n",
       "0   (20,)             3\n",
       "1   (10,)             2\n",
       "2   (30,)             1\n",
       "3   (40,)             1"
      ]
     },
     "execution_count": 11,
     "metadata": {},
     "output_type": "execute_result"
    }
   ],
   "source": [
    "df_value_counts = pd.DataFrame({\"valores\": valores, \"repeticiones\": repeticiones})\n",
    "df_value_counts"
   ]
  },
  {
   "cell_type": "markdown",
   "id": "cf9e6cdf",
   "metadata": {},
   "source": [
    "**7)**\n",
    "\n",
    "Haz lo siguiente: \"df.value_counts()\""
   ]
  },
  {
   "cell_type": "code",
   "execution_count": 12,
   "id": "6fbfce39",
   "metadata": {},
   "outputs": [
    {
     "data": {
      "text/plain": [
       "Valores\n",
       "20         3\n",
       "10         2\n",
       "30         1\n",
       "40         1\n",
       "dtype: int64"
      ]
     },
     "execution_count": 12,
     "metadata": {},
     "output_type": "execute_result"
    }
   ],
   "source": [
    "df.value_counts()"
   ]
  },
  {
   "cell_type": "code",
   "execution_count": 13,
   "id": "de25a447",
   "metadata": {},
   "outputs": [
    {
     "data": {
      "text/html": [
       "<div>\n",
       "<style scoped>\n",
       "    .dataframe tbody tr th:only-of-type {\n",
       "        vertical-align: middle;\n",
       "    }\n",
       "\n",
       "    .dataframe tbody tr th {\n",
       "        vertical-align: top;\n",
       "    }\n",
       "\n",
       "    .dataframe thead th {\n",
       "        text-align: right;\n",
       "    }\n",
       "</style>\n",
       "<table border=\"1\" class=\"dataframe\">\n",
       "  <thead>\n",
       "    <tr style=\"text-align: right;\">\n",
       "      <th></th>\n",
       "      <th>Valores</th>\n",
       "    </tr>\n",
       "  </thead>\n",
       "  <tbody>\n",
       "    <tr>\n",
       "      <th>0</th>\n",
       "      <td>10</td>\n",
       "    </tr>\n",
       "    <tr>\n",
       "      <th>1</th>\n",
       "      <td>10</td>\n",
       "    </tr>\n",
       "    <tr>\n",
       "      <th>2</th>\n",
       "      <td>20</td>\n",
       "    </tr>\n",
       "    <tr>\n",
       "      <th>3</th>\n",
       "      <td>20</td>\n",
       "    </tr>\n",
       "    <tr>\n",
       "      <th>4</th>\n",
       "      <td>20</td>\n",
       "    </tr>\n",
       "    <tr>\n",
       "      <th>5</th>\n",
       "      <td>30</td>\n",
       "    </tr>\n",
       "    <tr>\n",
       "      <th>6</th>\n",
       "      <td>40</td>\n",
       "    </tr>\n",
       "  </tbody>\n",
       "</table>\n",
       "</div>"
      ],
      "text/plain": [
       "   Valores\n",
       "0       10\n",
       "1       10\n",
       "2       20\n",
       "3       20\n",
       "4       20\n",
       "5       30\n",
       "6       40"
      ]
     },
     "execution_count": 13,
     "metadata": {},
     "output_type": "execute_result"
    }
   ],
   "source": [
    "df"
   ]
  },
  {
   "cell_type": "markdown",
   "id": "42cd7439",
   "metadata": {},
   "source": [
    "**8)**\n",
    "\n",
    "Observa si hay diferencias entre: \"df\" y \"df_value_counts\""
   ]
  },
  {
   "cell_type": "markdown",
   "id": "d2bfa844",
   "metadata": {},
   "source": [
    "# Ejercicio 3"
   ]
  },
  {
   "cell_type": "markdown",
   "id": "c75267de",
   "metadata": {},
   "source": [
    "**Comparación de matrices**\n",
    "\n",
    "Haz el código que testee si esas 2 matrices son iguales"
   ]
  },
  {
   "cell_type": "markdown",
   "id": "351bdc13",
   "metadata": {},
   "source": [
    "**1)**\n",
    "\n",
    "Dadas:\n",
    "    \n",
    "* matriz1 = np.array([[1,2],[3,4]])\n",
    "\n",
    "* matriz2 = np.array([[1,2],[3,8]])"
   ]
  },
  {
   "cell_type": "markdown",
   "id": "c618f278",
   "metadata": {},
   "source": [
    "PISTAS:\n",
    "    \n",
    "* -1- RECORRER MATRIZ1 Y MATRIZ2 CON LA PARAMETRIZACIÓN de **i y j**\n",
    "\n",
    "COMPROBAR: **( matriz1 [ i ][ j ] == matriz2 [ i ][ j ] )** \n",
    "               \n",
    "\n",
    "* -2- crear una variable contador (inicializada en 0)\n",
    "\n",
    "y, cuando detecte, un número de una matriz en una posición concreta, \n",
    "\n",
    "y sea diferente del número que tiene LA OTRA MATRIZ..entonces..\n",
    "\n",
    "\n",
    "* -3- incremento 1 unidad en dicho contador:\n",
    "\n",
    "SI los números son DISTINTOS\n",
    "\n",
    "--> entonces, que se incremente en 1 unidad..\n",
    "\n",
    "de tal manera que si ese contador=0 (al final)--> son todos iguales --> matriz1 = matriz2\n",
    "\n",
    "y si es distinto de 0 -> es que POR LO MENOS 1 vez encontró un número diferente\n",
    "\n",
    "matriz1 != matriz2\n",
    "\n",
    "\n",
    "* -4- puedes usar np.arange( ) si lo deseas para las filas y para las columnas\n",
    "\n",
    "* -5- recuerda el ejercicio del cronómetro para tener una referencia"
   ]
  },
  {
   "cell_type": "code",
   "execution_count": 16,
   "id": "d3706e05",
   "metadata": {},
   "outputs": [
    {
     "ename": "TypeError",
     "evalue": "cannot unpack non-iterable int object",
     "output_type": "error",
     "traceback": [
      "\u001b[0;31m---------------------------------------------------------------------------\u001b[0m",
      "\u001b[0;31mTypeError\u001b[0m                                 Traceback (most recent call last)",
      "\u001b[0;32m/var/folders/jw/lg6ll5ln5sx8l3dbpj7412480000gn/T/ipykernel_58755/2276451587.py\u001b[0m in \u001b[0;36m<module>\u001b[0;34m\u001b[0m\n\u001b[1;32m      4\u001b[0m \u001b[0mmatriz2\u001b[0m \u001b[0;34m=\u001b[0m \u001b[0mnp\u001b[0m\u001b[0;34m.\u001b[0m\u001b[0marray\u001b[0m\u001b[0;34m(\u001b[0m\u001b[0;34m[\u001b[0m\u001b[0;34m[\u001b[0m\u001b[0;36m1\u001b[0m\u001b[0;34m,\u001b[0m\u001b[0;36m2\u001b[0m\u001b[0;34m]\u001b[0m\u001b[0;34m,\u001b[0m\u001b[0;34m[\u001b[0m\u001b[0;36m3\u001b[0m\u001b[0;34m,\u001b[0m\u001b[0;36m8\u001b[0m\u001b[0;34m]\u001b[0m\u001b[0;34m]\u001b[0m\u001b[0;34m)\u001b[0m\u001b[0;34m\u001b[0m\u001b[0;34m\u001b[0m\u001b[0m\n\u001b[1;32m      5\u001b[0m \u001b[0mcontador\u001b[0m \u001b[0;34m=\u001b[0m \u001b[0;36m0\u001b[0m\u001b[0;34m\u001b[0m\u001b[0;34m\u001b[0m\u001b[0m\n\u001b[0;32m----> 6\u001b[0;31m \u001b[0;32mfor\u001b[0m \u001b[0mi\u001b[0m\u001b[0;34m,\u001b[0m \u001b[0mj\u001b[0m \u001b[0;32min\u001b[0m \u001b[0mrange\u001b[0m\u001b[0;34m(\u001b[0m\u001b[0;36m0\u001b[0m\u001b[0;34m,\u001b[0m \u001b[0mlen\u001b[0m\u001b[0;34m(\u001b[0m\u001b[0mmatriz1\u001b[0m\u001b[0;34m)\u001b[0m\u001b[0;34m)\u001b[0m\u001b[0;34m:\u001b[0m\u001b[0;34m\u001b[0m\u001b[0;34m\u001b[0m\u001b[0m\n\u001b[0m\u001b[1;32m      7\u001b[0m     \u001b[0;32mfor\u001b[0m \u001b[0mi\u001b[0m\u001b[0;34m,\u001b[0m\u001b[0mj\u001b[0m \u001b[0;32min\u001b[0m \u001b[0mrange\u001b[0m\u001b[0;34m(\u001b[0m\u001b[0;36m0\u001b[0m\u001b[0;34m,\u001b[0m \u001b[0mlen\u001b[0m\u001b[0;34m(\u001b[0m\u001b[0mmatriz2\u001b[0m\u001b[0;34m)\u001b[0m\u001b[0;34m)\u001b[0m\u001b[0;34m:\u001b[0m\u001b[0;34m\u001b[0m\u001b[0;34m\u001b[0m\u001b[0m\n\u001b[1;32m      8\u001b[0m         \u001b[0;32mif\u001b[0m \u001b[0mmatriz1\u001b[0m\u001b[0;34m[\u001b[0m\u001b[0mi\u001b[0m\u001b[0;34m]\u001b[0m\u001b[0;34m[\u001b[0m\u001b[0mj\u001b[0m\u001b[0;34m]\u001b[0m \u001b[0;34m!=\u001b[0m \u001b[0mmatriz2\u001b[0m\u001b[0;34m[\u001b[0m\u001b[0mi\u001b[0m\u001b[0;34m]\u001b[0m\u001b[0;34m[\u001b[0m\u001b[0mj\u001b[0m\u001b[0;34m]\u001b[0m\u001b[0;34m:\u001b[0m\u001b[0;34m\u001b[0m\u001b[0;34m\u001b[0m\u001b[0m\n",
      "\u001b[0;31mTypeError\u001b[0m: cannot unpack non-iterable int object"
     ]
    }
   ],
   "source": [
    "\n",
    "        "
   ]
  },
  {
   "cell_type": "code",
   "execution_count": null,
   "id": "94b2a3e4",
   "metadata": {},
   "outputs": [],
   "source": []
  },
  {
   "cell_type": "markdown",
   "id": "a7e5a643",
   "metadata": {},
   "source": [
    "**2)**\n",
    "\n",
    "Dadas:\n",
    "    \n",
    "* matriz1 = np.array([[1,2],[3,4]])\n",
    "\n",
    "* matriz2 = np.array([[1,2],[3,4]])"
   ]
  },
  {
   "cell_type": "code",
   "execution_count": null,
   "id": "798db9c2",
   "metadata": {},
   "outputs": [],
   "source": []
  },
  {
   "cell_type": "code",
   "execution_count": null,
   "id": "fbb61516",
   "metadata": {},
   "outputs": [],
   "source": []
  },
  {
   "cell_type": "markdown",
   "id": "92d4594b",
   "metadata": {},
   "source": [
    "*Creado por:*\n",
    "\n",
    "*Isabel Maniega*"
   ]
  }
 ],
 "metadata": {
  "kernelspec": {
   "display_name": "Python 3 (ipykernel)",
   "language": "python",
   "name": "python3"
  },
  "language_info": {
   "codemirror_mode": {
    "name": "ipython",
    "version": 3
   },
   "file_extension": ".py",
   "mimetype": "text/x-python",
   "name": "python",
   "nbconvert_exporter": "python",
   "pygments_lexer": "ipython3",
   "version": "3.9.7"
  }
 },
 "nbformat": 4,
 "nbformat_minor": 5
}
