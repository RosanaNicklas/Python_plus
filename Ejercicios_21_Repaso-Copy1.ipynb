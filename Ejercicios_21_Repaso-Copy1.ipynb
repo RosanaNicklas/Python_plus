{
 "cells": [
  {
   "cell_type": "markdown",
   "id": "98c7a75f",
   "metadata": {},
   "source": [
    "*Creado por:*\n",
    "  \n",
    "*Isabel Maniega*"
   ]
  },
  {
   "cell_type": "markdown",
   "id": "5ba6f067",
   "metadata": {},
   "source": [
    "# Ejercicios"
   ]
  },
  {
   "cell_type": "markdown",
   "id": "88f7698f",
   "metadata": {},
   "source": [
    "**1)** Escriba una función es_bisiesto() que determine si un año determinado es un año\n",
    "bisiesto.Un año bisiesto es divisible por 4, pero no por 100. También es divisible por 400"
   ]
  },
  {
   "cell_type": "code",
   "execution_count": 1,
   "id": "fddb89f9",
   "metadata": {},
   "outputs": [
    {
     "name": "stdout",
     "output_type": "stream",
     "text": [
      "Introduzca un año: 8\n",
      "El año 8 es un año bisiesto\n"
     ]
    }
   ],
   "source": [
    "año = int(input(\"Introduzca un año: \"))\n",
    "def bisiesto(año):\n",
    "    \n",
    "    if año%4==0 and año%100 !=0:\n",
    "        print(f\"El año {año} es un año bisiesto\")\n",
    "    elif año%400 ==0:\n",
    "        print(f\"El año {año} es un año bisiesto\")\n",
    "    else:\n",
    "         print(f\"El año {año} no es un año bisiesto\")\n",
    "bisiesto(año)        "
   ]
  },
  {
   "cell_type": "markdown",
   "id": "7070d485",
   "metadata": {},
   "source": [
    "**2)** Haz un programa que pida al usuario una cantidad de dolares, una tasa de interés y un numero de años. Muestra por pantalla en cuanto se habrá convertido el capital inicial transcurridos esos años si cada año se aplica la tasa de interés introducida.\n",
    "Recordar que un capital C dolares a un interés del x por cien durante n años se convierte en C * (1 + x/100)elevado a n (años). Probar el programa sabiendo que una cantidad de 10000 dolares al 4.5% de interés anual se convierte en 24117.14 dolares al cabo de 20 años. "
   ]
  },
  {
   "cell_type": "code",
   "execution_count": 9,
   "id": "94d260ba",
   "metadata": {},
   "outputs": [
    {
     "name": "stdout",
     "output_type": "stream",
     "text": [
      "Introduzca una cantidad de dolares: 10000\n",
      "Introduzca una tasa de interes: 4.5\n",
      "Introduzca una cantidad de años: 20\n"
     ]
    },
    {
     "data": {
      "text/plain": [
       "24117.140248374057"
      ]
     },
     "execution_count": 9,
     "metadata": {},
     "output_type": "execute_result"
    }
   ],
   "source": [
    "dolares = float(input(\"Introduzca una cantidad de dolares: \"))\n",
    "tasa = float(input(\"Introduzca una tasa de interes: \"))\n",
    "años = int(input(\"Introduzca una cantidad de años: \"))\n",
    "def programa(dolares, tasa, años):\n",
    "    capital = dolares*(1+tasa/100)**años\n",
    "    return capital\n",
    "programa(dolares, tasa, años)"
   ]
  },
  {
   "cell_type": "markdown",
   "id": "ec14d6e4",
   "metadata": {},
   "source": [
    "**3)**  Este programa muestra primero el listado de categorías de películas y pide al usuario que introduzca el código de la categoría de la película y posterior a ello pide que el usuario introduzca el número de días de atraso, y así se muestra al final el total a pagar."
   ]
  },
  {
   "cell_type": "raw",
   "id": "a090eec5",
   "metadata": {},
   "source": [
    "                     \"CATEGORIA  PRECIO  CODIGO  RECARGO/DIA DE ATRASO\""
   ]
  },
  {
   "cell_type": "raw",
   "id": "9d62925b",
   "metadata": {},
   "source": [
    "                     \"FAVORITOS  2.50    1             0.50\""
   ]
  },
  {
   "cell_type": "raw",
   "id": "f642566f",
   "metadata": {},
   "source": [
    "                      \"NUEVOS    3.00    2             0.75\""
   ]
  },
  {
   "cell_type": "raw",
   "id": "01588cd9",
   "metadata": {},
   "source": [
    "                      \"ESTRENOS  3.50    3             1.00\""
   ]
  },
  {
   "cell_type": "raw",
   "id": "648131c4",
   "metadata": {},
   "source": [
    "                 \"SUPER ESTRENOS 4.00    4             1.50\""
   ]
  },
  {
   "cell_type": "code",
   "execution_count": 6,
   "id": "f6baeef0",
   "metadata": {},
   "outputs": [
    {
     "name": "stdout",
     "output_type": "stream",
     "text": [
      "Introduzca el codigo de 1 a 4: 4\n",
      "Introduzca un numero de dias: 7\n"
     ]
    },
    {
     "data": {
      "text/plain": [
       "'Super Estrenos: total a pagar 14.5 euros'"
      ]
     },
     "execution_count": 6,
     "metadata": {},
     "output_type": "execute_result"
    }
   ],
   "source": [
    "codigo = int(input(\"Introduzca el codigo de 1 a 4: \"))\n",
    "def peliculas(codigo, dias):\n",
    "    listado =[\"Favoritos\", \"Nuevos\", \"Estrenos\", \"Super Estrenos\"]\n",
    "    for categoria in listado:\n",
    "        if codigo == 1:\n",
    "            dias = int(input(\"Introduzca un numero de dias: \"))\n",
    "            return f\"{listado[0]}: total a pagar {2.50 +(0.50 * dias)} euros\"\n",
    "        elif codigo == 2:\n",
    "            dias = int(input(\"Introduzca un numero de dias: \"))\n",
    "            return f\"{listado[1]}: total a pagar {3.00 +(0.75 * dias)} euros\"\n",
    "        elif codigo == 3:\n",
    "            dias = int(input(\"Introduzca un numero de dias: \"))\n",
    "            return  f\"{listado[2]}: total a pagar {3.50 +(1.00 * dias)} euros\"\n",
    "        elif codigo == 4:\n",
    "            dias = int(input(\"Introduzca un numero de dias: \"))\n",
    "            return f\"{listado[3]}: total a pagar {4.00 +(1.50 * dias)} euros\"\n",
    "        else:\n",
    "            return(\"El Codigo tiene que ser del 1 al 4\")\n",
    "         \n",
    "      \n",
    "peliculas(codigo, dias)\n",
    "\n"
   ]
  },
  {
   "cell_type": "markdown",
   "id": "a008606c",
   "metadata": {},
   "source": [
    "*Creado por:*\n",
    "  \n",
    "*Isabel Maniega*"
   ]
  },
  {
   "cell_type": "code",
   "execution_count": null,
   "id": "3186a9fd",
   "metadata": {},
   "outputs": [],
   "source": []
  }
 ],
 "metadata": {
  "kernelspec": {
   "display_name": "Python 3 (ipykernel)",
   "language": "python",
   "name": "python3"
  },
  "language_info": {
   "codemirror_mode": {
    "name": "ipython",
    "version": 3
   },
   "file_extension": ".py",
   "mimetype": "text/x-python",
   "name": "python",
   "nbconvert_exporter": "python",
   "pygments_lexer": "ipython3",
   "version": "3.8.10"
  }
 },
 "nbformat": 4,
 "nbformat_minor": 5
}
