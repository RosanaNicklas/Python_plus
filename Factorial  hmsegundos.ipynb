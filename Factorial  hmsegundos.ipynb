{
 "cells": [
  {
   "cell_type": "code",
   "execution_count": 3,
   "id": "f06cf256",
   "metadata": {},
   "outputs": [
    {
     "name": "stdout",
     "output_type": "stream",
     "text": [
      "Introduce un numero para cacular factorial: 5\n"
     ]
    },
    {
     "data": {
      "text/plain": [
       "120"
      ]
     },
     "execution_count": 3,
     "metadata": {},
     "output_type": "execute_result"
    }
   ],
   "source": [
    "#Factorial\n",
    "num = int(input(\"Introduce un numero para cacular factorial: \"))\n",
    "def factorial_a(num):\n",
    "    if num < 0:\n",
    "        print(\"Naranjas de la china\")\n",
    "    elif num == 0:\n",
    "        return 1\n",
    "    else:\n",
    "        fact = 1\n",
    "        for num in range(1, num + 1):\n",
    "            \n",
    "            fact = fact * num\n",
    "            #num = num - 1\n",
    "    return fact\n",
    "factorial_a(num) \n"
   ]
  },
  {
   "cell_type": "markdown",
   "id": "5e54bc85",
   "metadata": {},
   "source": [
    "**TRANSPUESTA**"
   ]
  },
  {
   "cell_type": "code",
   "execution_count": 5,
   "id": "6e0cdd9e",
   "metadata": {},
   "outputs": [
    {
     "data": {
      "text/plain": [
       "[[1, 2, 3, 4, 5], [6, 7, 8, 9, 10], [11, 12, 13, 14, 15]]"
      ]
     },
     "execution_count": 5,
     "metadata": {},
     "output_type": "execute_result"
    }
   ],
   "source": [
    "array = [\n",
    "    [1, 2, 3, 4, 5],\n",
    "    [6, 7, 8, 9, 10],\n",
    "    [11, 12, 13, 14, 15]\n",
    "    ]\n",
    "array\n",
    "    "
   ]
  },
  {
   "cell_type": "code",
   "execution_count": 3,
   "id": "911625f4",
   "metadata": {},
   "outputs": [
    {
     "data": {
      "text/plain": [
       "'result = []\\nfor row in array:\\n    for column in array:\\n        result[row][column] = array[column][row]\\nreturn result'"
      ]
     },
     "execution_count": 3,
     "metadata": {},
     "output_type": "execute_result"
    }
   ],
   "source": [
    "'''result = []\n",
    "for row in array:\n",
    "    for column in array:\n",
    "        result[row][column] = array[column][row]\n",
    "return result'''\n",
    "        "
   ]
  },
  {
   "cell_type": "code",
   "execution_count": 10,
   "id": "29065a66",
   "metadata": {},
   "outputs": [
    {
     "name": "stdout",
     "output_type": "stream",
     "text": [
      "0\n",
      "1\n",
      "2\n",
      "3\n",
      "4\n",
      "0\n",
      "1\n",
      "2\n",
      "3\n",
      "4\n",
      "0\n",
      "1\n",
      "2\n",
      "3\n",
      "4\n"
     ]
    }
   ],
   "source": [
    "for i in range(len(array)):\n",
    "    #print(i)\n",
    "    for j in range(len(array[0])):\n",
    "        print(j)\n",
    "        if i == "
   ]
  },
  {
   "cell_type": "code",
   "execution_count": null,
   "id": "a51ca501",
   "metadata": {},
   "outputs": [],
   "source": []
  }
 ],
 "metadata": {
  "kernelspec": {
   "display_name": "Python 3 (ipykernel)",
   "language": "python",
   "name": "python3"
  },
  "language_info": {
   "codemirror_mode": {
    "name": "ipython",
    "version": 3
   },
   "file_extension": ".py",
   "mimetype": "text/x-python",
   "name": "python",
   "nbconvert_exporter": "python",
   "pygments_lexer": "ipython3",
   "version": "3.8.10"
  }
 },
 "nbformat": 4,
 "nbformat_minor": 5
}
