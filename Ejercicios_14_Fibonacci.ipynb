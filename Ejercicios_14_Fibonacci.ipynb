{
 "cells": [
  {
   "cell_type": "markdown",
   "id": "9a57ec2d",
   "metadata": {},
   "source": [
    "*Creado por:*\n",
    "    \n",
    "*Isabel Maniega*"
   ]
  },
  {
   "cell_type": "markdown",
   "id": "85627aa4",
   "metadata": {},
   "source": [
    "# Ejercicio 1"
   ]
  },
  {
   "cell_type": "markdown",
   "id": "c846c627",
   "metadata": {},
   "source": [
    "Cada número es la suma de los 2 anteriores:"
   ]
  },
  {
   "cell_type": "markdown",
   "id": "482ebdb6",
   "metadata": {},
   "source": [
    "0-1-1-2-3-5-8-13-21-34..."
   ]
  },
  {
   "cell_type": "markdown",
   "id": "fb9ac12c",
   "metadata": {},
   "source": [
    "Se pide programar esa secuencia con Python."
   ]
  },
  {
   "cell_type": "markdown",
   "id": "4a9610b0",
   "metadata": {},
   "source": [
    "Nota:"
   ]
  },
  {
   "cell_type": "markdown",
   "id": "079934a6",
   "metadata": {},
   "source": [
    "Apendiza elementos hasta tener 10 primeros resultados.\n",
    "\n",
    "(los 10 números indicados desde 0 hasta 34)\n",
    "\n",
    "**Si sabes, hazlo de varias formas diferentes**"
   ]
  },
  {
   "cell_type": "code",
   "execution_count": 1,
   "id": "95ce166f",
   "metadata": {},
   "outputs": [],
   "source": [
    "import numpy as np"
   ]
  },
  {
   "cell_type": "code",
   "execution_count": 2,
   "id": "ed8298f2",
   "metadata": {},
   "outputs": [
    {
     "data": {
      "text/plain": [
       "1"
      ]
     },
     "execution_count": 2,
     "metadata": {},
     "output_type": "execute_result"
    }
   ],
   "source": [
    "def Fibona(Num):\n",
    "    if(Num==0):\n",
    "        return 0\n",
    "    elif(Num < 2):\n",
    "        return 1\n",
    "    else:\n",
    "        return Fibona(Num-2) + Fibona(Num-1)\n",
    "    \n",
    "Fibona(2)"
   ]
  },
  {
   "cell_type": "code",
   "execution_count": null,
   "id": "a7ce61a8",
   "metadata": {},
   "outputs": [
    {
     "name": "stdout",
     "output_type": "stream",
     "text": [
      "0\n",
      "1\n",
      "1\n",
      "2\n",
      "3\n",
      "5\n",
      "8\n",
      "13\n",
      "21\n",
      "34\n",
      "55\n",
      "89\n",
      "144\n",
      "233\n",
      "377\n",
      "610\n",
      "987\n",
      "1597\n",
      "2584\n",
      "4181\n",
      "6765\n",
      "10946\n",
      "17711\n",
      "28657\n",
      "46368\n",
      "75025\n",
      "121393\n",
      "196418\n",
      "317811\n",
      "514229\n",
      "832040\n",
      "1346269\n",
      "2178309\n",
      "3524578\n",
      "5702887\n",
      "9227465\n",
      "14930352\n",
      "24157817\n"
     ]
    }
   ],
   "source": [
    "\n",
    "for n in range(0,10000000):\n",
    "    print(Fibona(n))"
   ]
  },
  {
   "cell_type": "markdown",
   "id": "b0837f63",
   "metadata": {},
   "source": [
    "# Ejercicio 2"
   ]
  },
  {
   "cell_type": "markdown",
   "id": "f8ec848c",
   "metadata": {},
   "source": [
    "Cada número es la suma de los 2 anteriores:"
   ]
  },
  {
   "cell_type": "markdown",
   "id": "4135f65d",
   "metadata": {},
   "source": [
    "0-1-1-2-3-5-8-13-21-34..."
   ]
  },
  {
   "cell_type": "markdown",
   "id": "6fdd1278",
   "metadata": {},
   "source": [
    "Se pide programar para los números de fibonacci mayores de 1000"
   ]
  },
  {
   "cell_type": "markdown",
   "id": "70283a73",
   "metadata": {},
   "source": [
    "*Creado por:*\n",
    "    \n",
    "*Isabel Maniega*"
   ]
  },
  {
   "cell_type": "code",
   "execution_count": 5,
   "id": "7a3553dc",
   "metadata": {},
   "outputs": [
    {
     "name": "stdout",
     "output_type": "stream",
     "text": [
      "[0, 1, 1, 2, 3, 5, 8, 13, 21, 34, 55, 89, 144, 233, 377, 610, 987, 1597, 2584, 4181, 6765, 10946, 17711, 28657, 46368, 75025, 121393, 196418, 317811, 514229, 832040, 1346269, 2178309, 3524578]\n"
     ]
    }
   ],
   "source": [
    "p,q =0,1\n",
    "fibo =[]\n",
    "fibo.append(0)\n",
    "fibo.append(1)\n",
    "\n",
    "while p < 1000000:\n",
    "    p = p + q\n",
    "    fibo.append(p)\n",
    "    q = p + q\n",
    "    fibo.append(q)\n",
    "    \n",
    "print(fibo)"
   ]
  },
  {
   "cell_type": "code",
   "execution_count": null,
   "id": "cae4b483",
   "metadata": {},
   "outputs": [],
   "source": [
    "fibo_mayor_1000 =[]\n",
    "for num in fibo:\n",
    "    if(num >1000):\n",
    "          fibo_mayor_1000.append(num)\n",
    "fibo_mayor_1000            "
   ]
  },
  {
   "cell_type": "code",
   "execution_count": null,
   "id": "6d556cea",
   "metadata": {},
   "outputs": [],
   "source": []
  },
  {
   "cell_type": "code",
   "execution_count": 5,
   "id": "e538c3dc",
   "metadata": {},
   "outputs": [
    {
     "name": "stdout",
     "output_type": "stream",
     "text": [
      "[0, 1, 1, 2, 3, 5, 8, 13, 21, 34, 55, 89, 144, 233, 377, 610, 987, 1597, 2584, 4181, 6765, 10946, 17711, 28657, 46368, 75025, 121393, 196418, 317811, 514229, 832040, 1346269, 2178309, 3524578]\n"
     ]
    }
   ],
   "source": [
    "p,q = 0,1\n",
    "fibor = []\n",
    "fibor.append(0)\n",
    "fibor.append(1)\n",
    "while p < 1000000:\n",
    "    p = p + q\n",
    "    fibor.append(p)\n",
    "    q = p + q\n",
    "    fibor.append(q)\n",
    "print(fibor)    "
   ]
  },
  {
   "cell_type": "code",
   "execution_count": 8,
   "id": "e3a44725",
   "metadata": {},
   "outputs": [
    {
     "data": {
      "text/plain": [
       "3"
      ]
     },
     "execution_count": 8,
     "metadata": {},
     "output_type": "execute_result"
    }
   ],
   "source": [
    "def Fiborr(num):\n",
    "    if(num == 0):\n",
    "        return 0\n",
    "    elif(num < 2):\n",
    "        return 1\n",
    "    else:\n",
    "        return Fiborr(num - 2) + Fiborr(num - 1)\n",
    "    \n",
    "Fiborr(4)    \n",
    "            "
   ]
  },
  {
   "cell_type": "code",
   "execution_count": null,
   "id": "f3e67fba",
   "metadata": {},
   "outputs": [
    {
     "name": "stdout",
     "output_type": "stream",
     "text": [
      "0\n",
      "1\n",
      "1\n",
      "2\n",
      "3\n",
      "5\n",
      "8\n",
      "13\n",
      "21\n",
      "34\n",
      "55\n",
      "89\n",
      "144\n",
      "233\n",
      "377\n",
      "610\n",
      "987\n",
      "1597\n",
      "2584\n",
      "4181\n",
      "6765\n",
      "10946\n",
      "17711\n",
      "28657\n",
      "46368\n",
      "75025\n",
      "121393\n",
      "196418\n",
      "317811\n",
      "514229\n",
      "832040\n",
      "1346269\n",
      "2178309\n",
      "3524578\n",
      "5702887\n"
     ]
    }
   ],
   "source": [
    "for n in range(0, 10000000):\n",
    "    print(Fiborr(n))"
   ]
  },
  {
   "cell_type": "code",
   "execution_count": null,
   "id": "e0bea98f",
   "metadata": {},
   "outputs": [],
   "source": []
  }
 ],
 "metadata": {
  "kernelspec": {
   "display_name": "Python 3 (ipykernel)",
   "language": "python",
   "name": "python3"
  },
  "language_info": {
   "codemirror_mode": {
    "name": "ipython",
    "version": 3
   },
   "file_extension": ".py",
   "mimetype": "text/x-python",
   "name": "python",
   "nbconvert_exporter": "python",
   "pygments_lexer": "ipython3",
   "version": "3.8.10"
  }
 },
 "nbformat": 4,
 "nbformat_minor": 5
}
