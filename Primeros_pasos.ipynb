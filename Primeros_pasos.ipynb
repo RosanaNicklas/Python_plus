{
 "cells": [
  {
   "cell_type": "code",
   "execution_count": 1,
   "id": "4341e0c2",
   "metadata": {},
   "outputs": [
    {
     "data": {
      "text/plain": [
       "'/Users/javier/DataScience'"
      ]
     },
     "execution_count": 1,
     "metadata": {},
     "output_type": "execute_result"
    }
   ],
   "source": [
    "pwd"
   ]
  },
  {
   "cell_type": "code",
   "execution_count": 46,
   "id": "e19d388d",
   "metadata": {},
   "outputs": [
    {
     "name": "stdout",
     "output_type": "stream",
     "text": [
      "25\n",
      "10\n",
      "el valor de s es 25 y el valor de y es 10\n",
      "el valor de 25 y el valor de 10\n"
     ]
    }
   ],
   "source": [
    "s = 25\n",
    "y = 10\n",
    "print(s)\n",
    "print(y)\n",
    "print(f'el valor de s es {s} y el valor de y es {y}')\n",
    "print(\"el valor de \" +  str(s) + \" y el valor de \" + str(y))"
   ]
  },
  {
   "cell_type": "code",
   "execution_count": 29,
   "id": "5e5dfb8d",
   "metadata": {},
   "outputs": [
    {
     "name": "stdout",
     "output_type": "stream",
     "text": [
      "-3\n",
      "<class 'int'>\n"
     ]
    }
   ],
   "source": [
    "notas = -3\n",
    "print(notas)\n",
    "print(type(notas))"
   ]
  },
  {
   "cell_type": "code",
   "execution_count": 35,
   "id": "c17f7a70",
   "metadata": {},
   "outputs": [
    {
     "name": "stdout",
     "output_type": "stream",
     "text": [
      "Juan\"El profesor\"\n"
     ]
    },
    {
     "data": {
      "text/plain": [
       "'Juan\"El profesor\"'"
      ]
     },
     "execution_count": 35,
     "metadata": {},
     "output_type": "execute_result"
    }
   ],
   "source": [
    "name ='Juan\"El profesor\"'\n",
    "print(name)\n"
   ]
  },
  {
   "cell_type": "code",
   "execution_count": 34,
   "id": "7cc41fa4",
   "metadata": {},
   "outputs": [
    {
     "name": "stdout",
     "output_type": "stream",
     "text": [
      "Juan\"El profesor\"\n",
      "juan\"El profesor\"\n"
     ]
    }
   ],
   "source": [
    "name = 'Juan'\n",
    "apodo = '\"El profesor\"'\n",
    "conjunto = name + apodo\n",
    "print(conjunto)\n",
    "print('juan' + '\"El profesor\"')"
   ]
  },
  {
   "cell_type": "code",
   "execution_count": 28,
   "id": "1b0461c2",
   "metadata": {},
   "outputs": [
    {
     "name": "stdout",
     "output_type": "stream",
     "text": [
      "no cuentes los dias, haz que los dias cuenten\n",
      "NO CUENTES LOS DIAS, HAZ QUE LOS DIAS CUENTEN\n",
      "No Cuentes Los Dias, Haz Que Los Dias Cuenten\n"
     ]
    }
   ],
   "source": [
    "frase = \"no cuentes los dias, haz que los dias cuenten\"\n",
    "frase_minus = frase.lower()\n",
    "print(frase_minus)\n",
    "frase_mayus = frase.upper()\n",
    "print(frase_mayus)\n",
    "frase_prime_mayus = frase.title()\n",
    "print(frase_prime_mayus)"
   ]
  },
  {
   "cell_type": "code",
   "execution_count": 43,
   "id": "52d7c1f2",
   "metadata": {},
   "outputs": [
    {
     "name": "stdout",
     "output_type": "stream",
     "text": [
      "61\n",
      "910\n",
      "6.0\n",
      "6\n",
      "0\n",
      "19683\n",
      "19683\n"
     ]
    },
    {
     "data": {
      "text/plain": [
       "int"
      ]
     },
     "execution_count": 43,
     "metadata": {},
     "output_type": "execute_result"
    }
   ],
   "source": [
    "suma =26 + 35\n",
    "multiplica = 26 * 35\n",
    "division = 36 / 6\n",
    "cociente_division = 36 // 6\n",
    "resto_division = 36 % 6\n",
    "eleva = 3**9\n",
    "print(suma)\n",
    "print(multiplica)\n",
    "print(division)\n",
    "print(cociente_division)\n",
    "print(resto_division)\n",
    "print(eleva)\n",
    "print(round(eleva, 2))\n",
    "type(eleva)"
   ]
  },
  {
   "cell_type": "code",
   "execution_count": 25,
   "id": "14f69216",
   "metadata": {},
   "outputs": [
    {
     "name": "stdout",
     "output_type": "stream",
     "text": [
      "32\n",
      "numero maximo 4 y numero minimo -10\n"
     ]
    }
   ],
   "source": [
    "print(abs(-32))\n",
    "muestra = (3,-6,4,-10,2.6666)\n",
    "minimo = min(muestra)\n",
    "maximo = max(muestra)\n",
    "print(f'numero maximo {maximo} y numero minimo {minimo}')"
   ]
  },
  {
   "cell_type": "raw",
   "id": "bd674e87",
   "metadata": {},
   "source": [
    "Reemplaza valores que faltan en el listado por -1, crea un dataframe con estos valores. L = (10, None, 8, 5, None, 20)"
   ]
  },
  {
   "cell_type": "code",
   "execution_count": 4,
   "id": "0dc47663",
   "metadata": {},
   "outputs": [
    {
     "data": {
      "text/plain": [
       "(10, -1, 8, 5, -1, 20)"
      ]
     },
     "execution_count": 4,
     "metadata": {},
     "output_type": "execute_result"
    }
   ],
   "source": [
    "L = (10, None, 8, 5, None, 20)\n",
    "Lista = list(L)\n",
    "Lista[1]= -1\n",
    "Lista[4]= -1\n",
    "tup =tuple(Lista)\n",
    "tup\n"
   ]
  },
  {
   "cell_type": "code",
   "execution_count": 8,
   "id": "5bd29d9f",
   "metadata": {},
   "outputs": [
    {
     "data": {
      "text/html": [
       "<div>\n",
       "<style scoped>\n",
       "    .dataframe tbody tr th:only-of-type {\n",
       "        vertical-align: middle;\n",
       "    }\n",
       "\n",
       "    .dataframe tbody tr th {\n",
       "        vertical-align: top;\n",
       "    }\n",
       "\n",
       "    .dataframe thead th {\n",
       "        text-align: right;\n",
       "    }\n",
       "</style>\n",
       "<table border=\"1\" class=\"dataframe\">\n",
       "  <thead>\n",
       "    <tr style=\"text-align: right;\">\n",
       "      <th></th>\n",
       "      <th>edad</th>\n",
       "    </tr>\n",
       "  </thead>\n",
       "  <tbody>\n",
       "    <tr>\n",
       "      <th>0</th>\n",
       "      <td>10.0</td>\n",
       "    </tr>\n",
       "    <tr>\n",
       "      <th>1</th>\n",
       "      <td>NaN</td>\n",
       "    </tr>\n",
       "    <tr>\n",
       "      <th>2</th>\n",
       "      <td>8.0</td>\n",
       "    </tr>\n",
       "    <tr>\n",
       "      <th>3</th>\n",
       "      <td>5.0</td>\n",
       "    </tr>\n",
       "    <tr>\n",
       "      <th>4</th>\n",
       "      <td>NaN</td>\n",
       "    </tr>\n",
       "    <tr>\n",
       "      <th>5</th>\n",
       "      <td>20.0</td>\n",
       "    </tr>\n",
       "  </tbody>\n",
       "</table>\n",
       "</div>"
      ],
      "text/plain": [
       "   edad\n",
       "0  10.0\n",
       "1   NaN\n",
       "2   8.0\n",
       "3   5.0\n",
       "4   NaN\n",
       "5  20.0"
      ]
     },
     "execution_count": 8,
     "metadata": {},
     "output_type": "execute_result"
    }
   ],
   "source": [
    "import pandas as pd\n",
    "df = pd.DataFrame(L, columns = [\"edad\"])\n",
    "df"
   ]
  },
  {
   "cell_type": "markdown",
   "id": "2d6a9330",
   "metadata": {},
   "source": [
    "DICCIONARIOS\n"
   ]
  },
  {
   "cell_type": "code",
   "execution_count": 1,
   "id": "b4c2935a",
   "metadata": {},
   "outputs": [
    {
     "data": {
      "text/plain": [
       "{'a': 10, 'b': -2, 'c': 35}"
      ]
     },
     "execution_count": 1,
     "metadata": {},
     "output_type": "execute_result"
    }
   ],
   "source": [
    "diccionario = {\"a\":10,\"b\":-2,\"c\":35}\n",
    "diccionario"
   ]
  },
  {
   "cell_type": "code",
   "execution_count": 3,
   "id": "c9084d2b",
   "metadata": {},
   "outputs": [
    {
     "data": {
      "text/plain": [
       "3"
      ]
     },
     "execution_count": 3,
     "metadata": {},
     "output_type": "execute_result"
    }
   ],
   "source": [
    "#mostrar valores dando clave y tamaño diccionario\n",
    "diccionario[\"a\"]\n",
    "diccionario[\"b\"]\n",
    "diccionario[\"c\"]\n",
    "len(diccionario)"
   ]
  },
  {
   "cell_type": "code",
   "execution_count": 5,
   "id": "7bea1bb4",
   "metadata": {},
   "outputs": [
    {
     "data": {
      "text/plain": [
       "dict_keys(['clave1', 'clave2', 'clave3'])"
      ]
     },
     "execution_count": 5,
     "metadata": {},
     "output_type": "execute_result"
    }
   ],
   "source": [
    "#mostrar valores de las claves\n",
    "\n",
    "diccionario={\"clave1\":1,\"clave2\":2, \"clave3\":3}\n",
    "diccionario.keys()"
   ]
  },
  {
   "cell_type": "code",
   "execution_count": 6,
   "id": "0384bab0",
   "metadata": {},
   "outputs": [
    {
     "data": {
      "text/plain": [
       "dict_items([('clave1', 1), ('clave2', 2), ('clave3', 3)])"
      ]
     },
     "execution_count": 6,
     "metadata": {},
     "output_type": "execute_result"
    }
   ],
   "source": [
    "#mostrar valores de los valores\n",
    "#mostrar toda la informacion\n",
    "diccionario.values()\n",
    "diccionario.items()"
   ]
  },
  {
   "cell_type": "code",
   "execution_count": 7,
   "id": "05e83e5e",
   "metadata": {},
   "outputs": [
    {
     "data": {
      "text/plain": [
       "{'clave1': 1, 'clave2': 2, 'clave3': 3, 'clave': 5}"
      ]
     },
     "execution_count": 7,
     "metadata": {},
     "output_type": "execute_result"
    }
   ],
   "source": [
    "#modificar un valor\n",
    "diccionario[\"clave\"]=5\n",
    "diccionario"
   ]
  },
  {
   "cell_type": "code",
   "execution_count": 8,
   "id": "580ce352",
   "metadata": {},
   "outputs": [
    {
     "data": {
      "text/plain": [
       "{'clave1': 1, 'clave2': 2, 'clave': 5}"
      ]
     },
     "execution_count": 8,
     "metadata": {},
     "output_type": "execute_result"
    }
   ],
   "source": [
    "#eliminar dato\n",
    "del diccionario[\"clave3\"]\n",
    "diccionario"
   ]
  },
  {
   "cell_type": "code",
   "execution_count": 9,
   "id": "a4d97fd1",
   "metadata": {},
   "outputs": [
    {
     "data": {
      "text/plain": [
       "3"
      ]
     },
     "execution_count": 9,
     "metadata": {},
     "output_type": "execute_result"
    }
   ],
   "source": [
    "len(diccionario)"
   ]
  },
  {
   "cell_type": "code",
   "execution_count": 10,
   "id": "32e58ed9",
   "metadata": {},
   "outputs": [],
   "source": [
    "#usos de tuplas,listas y diccionarios en Dataframe\n",
    "import pandas as pd\n"
   ]
  },
  {
   "cell_type": "code",
   "execution_count": 11,
   "id": "3f8c2c46",
   "metadata": {},
   "outputs": [
    {
     "data": {
      "text/plain": [
       "{'Ana', 'Andres', 'Marcos', 'Maria'}"
      ]
     },
     "execution_count": 11,
     "metadata": {},
     "output_type": "execute_result"
    }
   ],
   "source": [
    "E ={\"Andres\",\"Marcos\",\"Ana\",\"Maria\"}\n",
    "E"
   ]
  },
  {
   "cell_type": "code",
   "execution_count": 12,
   "id": "9c40258a",
   "metadata": {},
   "outputs": [
    {
     "data": {
      "text/plain": [
       "{6, 7, 8, 9}"
      ]
     },
     "execution_count": 12,
     "metadata": {},
     "output_type": "execute_result"
    }
   ],
   "source": [
    "N ={9,7,8,6}\n",
    "N"
   ]
  },
  {
   "cell_type": "code",
   "execution_count": 13,
   "id": "81345792",
   "metadata": {},
   "outputs": [
    {
     "data": {
      "text/plain": [
       "[('Andres', 8), ('Ana', 9), ('Marcos', 6), ('Maria', 7)]"
      ]
     },
     "execution_count": 13,
     "metadata": {},
     "output_type": "execute_result"
    }
   ],
   "source": [
    "data = list(zip(E,N))\n",
    "data"
   ]
  },
  {
   "cell_type": "code",
   "execution_count": 14,
   "id": "c9cd3ff5",
   "metadata": {},
   "outputs": [
    {
     "data": {
      "text/html": [
       "<div>\n",
       "<style scoped>\n",
       "    .dataframe tbody tr th:only-of-type {\n",
       "        vertical-align: middle;\n",
       "    }\n",
       "\n",
       "    .dataframe tbody tr th {\n",
       "        vertical-align: top;\n",
       "    }\n",
       "\n",
       "    .dataframe thead th {\n",
       "        text-align: right;\n",
       "    }\n",
       "</style>\n",
       "<table border=\"1\" class=\"dataframe\">\n",
       "  <thead>\n",
       "    <tr style=\"text-align: right;\">\n",
       "      <th></th>\n",
       "      <th>Estudiantes</th>\n",
       "      <th>Notas</th>\n",
       "    </tr>\n",
       "  </thead>\n",
       "  <tbody>\n",
       "    <tr>\n",
       "      <th>0</th>\n",
       "      <td>Andres</td>\n",
       "      <td>8</td>\n",
       "    </tr>\n",
       "    <tr>\n",
       "      <th>1</th>\n",
       "      <td>Ana</td>\n",
       "      <td>9</td>\n",
       "    </tr>\n",
       "    <tr>\n",
       "      <th>2</th>\n",
       "      <td>Marcos</td>\n",
       "      <td>6</td>\n",
       "    </tr>\n",
       "    <tr>\n",
       "      <th>3</th>\n",
       "      <td>Maria</td>\n",
       "      <td>7</td>\n",
       "    </tr>\n",
       "  </tbody>\n",
       "</table>\n",
       "</div>"
      ],
      "text/plain": [
       "  Estudiantes  Notas\n",
       "0      Andres      8\n",
       "1         Ana      9\n",
       "2      Marcos      6\n",
       "3       Maria      7"
      ]
     },
     "execution_count": 14,
     "metadata": {},
     "output_type": "execute_result"
    }
   ],
   "source": [
    "df = pd.DataFrame(data, columns=[\"Estudiantes\",\"Notas\"])\n",
    "df"
   ]
  },
  {
   "cell_type": "code",
   "execution_count": 20,
   "id": "7892dce3",
   "metadata": {},
   "outputs": [],
   "source": [
    "#diccionario = {\"Estudiantes\": E, \"Notas\":N }\n",
    "#df2=pd.DataFrame(diccionario)\n",
    "#df2"
   ]
  },
  {
   "cell_type": "markdown",
   "id": "d044682c",
   "metadata": {},
   "source": [
    "STRINGS"
   ]
  },
  {
   "cell_type": "code",
   "execution_count": 28,
   "id": "808fb74f",
   "metadata": {},
   "outputs": [
    {
     "data": {
      "text/plain": [
       "14"
      ]
     },
     "execution_count": 28,
     "metadata": {},
     "output_type": "execute_result"
    }
   ],
   "source": [
    "s1= \"Hola, como vas\"\n",
    "s1\n",
    "len(s1)"
   ]
  },
  {
   "cell_type": "code",
   "execution_count": 27,
   "id": "e5f7d513",
   "metadata": {},
   "outputs": [
    {
     "data": {
      "text/plain": [
       "'h'"
      ]
     },
     "execution_count": 27,
     "metadata": {},
     "output_type": "execute_result"
    }
   ],
   "source": [
    "s1[0]"
   ]
  },
  {
   "cell_type": "code",
   "execution_count": 30,
   "id": "e985a19e",
   "metadata": {},
   "outputs": [
    {
     "data": {
      "text/plain": [
       "True"
      ]
     },
     "execution_count": 30,
     "metadata": {},
     "output_type": "execute_result"
    }
   ],
   "source": [
    "#buscar palabras que empiezan por 'j'\n",
    "#startswith = False,True(Boleano)\n",
    "#endswith = True, False\n",
    "s1.startswith(\"H\")\n",
    "s1.endswith(\"s\")"
   ]
  },
  {
   "cell_type": "code",
   "execution_count": 31,
   "id": "91c5867c",
   "metadata": {},
   "outputs": [
    {
     "data": {
      "text/plain": [
       "[10, -20, None, 80, -5, None, 20]"
      ]
     },
     "execution_count": 31,
     "metadata": {},
     "output_type": "execute_result"
    }
   ],
   "source": [
    "#Listas con falta de valores\n",
    "L =[10,-20,None,80,-5,None,20]\n",
    "L"
   ]
  },
  {
   "cell_type": "code",
   "execution_count": 32,
   "id": "0cd03e21",
   "metadata": {},
   "outputs": [
    {
     "data": {
      "text/plain": [
       "[10, -20, None, 80, -5, -1, 20]"
      ]
     },
     "execution_count": 32,
     "metadata": {},
     "output_type": "execute_result"
    }
   ],
   "source": [
    "L[-2]= -1\n",
    "L"
   ]
  },
  {
   "cell_type": "code",
   "execution_count": 33,
   "id": "fe3b5351",
   "metadata": {},
   "outputs": [
    {
     "data": {
      "text/plain": [
       "[10, -20, -1, 80, -5, -1, 20]"
      ]
     },
     "execution_count": 33,
     "metadata": {},
     "output_type": "execute_result"
    }
   ],
   "source": [
    "L[2] = -1\n",
    "L"
   ]
  },
  {
   "cell_type": "code",
   "execution_count": 35,
   "id": "a52ed91c",
   "metadata": {},
   "outputs": [
    {
     "name": "stdout",
     "output_type": "stream",
     "text": [
      "10\n",
      "-20\n",
      "-1\n",
      "80\n",
      "-5\n",
      "-1\n",
      "20\n"
     ]
    }
   ],
   "source": [
    "#Bucles for muestre lista\n",
    "for i in L:\n",
    "    print(i)"
   ]
  },
  {
   "cell_type": "code",
   "execution_count": 36,
   "id": "8c151579",
   "metadata": {},
   "outputs": [
    {
     "name": "stdout",
     "output_type": "stream",
     "text": [
      "0\n",
      "1\n",
      "2\n",
      "3\n",
      "4\n",
      "5\n",
      "6\n"
     ]
    }
   ],
   "source": [
    "#condicion si esto es igual a x entonces...\n",
    "#if i == None:\n",
    "#range (limita los valores a mostrar) range(0,7) empieza en posicion 0y\n",
    "#termina en posicion 7\n",
    "for i in range(0, len(L)):\n",
    "    print(i)"
   ]
  },
  {
   "cell_type": "code",
   "execution_count": 41,
   "id": "373d10bb",
   "metadata": {},
   "outputs": [
    {
     "name": "stdout",
     "output_type": "stream",
     "text": [
      "False\n",
      "False\n",
      "True\n",
      "False\n",
      "True\n",
      "False\n"
     ]
    }
   ],
   "source": [
    "L= [20, 30, None, 50, None, 60]\n",
    "L\n",
    "for i in range(0, len(L)):\n",
    "    if L[i] == None:\n",
    "        print(True)\n",
    "    else:\n",
    "        print(False)"
   ]
  },
  {
   "cell_type": "markdown",
   "id": "b2fd4d30",
   "metadata": {},
   "source": [
    "**CONDICIONALES**"
   ]
  },
  {
   "cell_type": "code",
   "execution_count": 7,
   "id": "0ead05c4",
   "metadata": {},
   "outputs": [
    {
     "data": {
      "text/plain": [
       "[5, 10, 15, 20, 25]"
      ]
     },
     "execution_count": 7,
     "metadata": {},
     "output_type": "execute_result"
    }
   ],
   "source": [
    "Listado = [5, 10, 15, 20, 25]\n",
    "Listado"
   ]
  },
  {
   "cell_type": "code",
   "execution_count": 9,
   "id": "6520b9b7",
   "metadata": {},
   "outputs": [
    {
     "name": "stdout",
     "output_type": "stream",
     "text": [
      "2\n"
     ]
    }
   ],
   "source": [
    "#paso a paso\n",
    "contador = 0   #iniciar contador con valoe 0\n",
    "for numero in Listado:\n",
    "    if(numero == 5) or (numero ==25): #si numero es 5 contador suma 1 de 0 a 1\n",
    "        contador +=1\n",
    "print(contador) #el resultado esperado es 2\n",
    "#si l numero es 25 el contador suma 1 ---> de 1 a 2\n",
    "#recorre la lista y finaliza el buble"
   ]
  },
  {
   "cell_type": "code",
   "execution_count": 10,
   "id": "edbeead9",
   "metadata": {},
   "outputs": [
    {
     "data": {
      "text/plain": [
       "[5, 10, 15, 20, 25]"
      ]
     },
     "execution_count": 10,
     "metadata": {},
     "output_type": "execute_result"
    }
   ],
   "source": [
    "Listado = [5, 10, 15, 20, 25]\n",
    "Listado"
   ]
  },
  {
   "cell_type": "code",
   "execution_count": 11,
   "id": "e8d271b8",
   "metadata": {},
   "outputs": [],
   "source": [
    "x=1"
   ]
  },
  {
   "cell_type": "code",
   "execution_count": 13,
   "id": "53800100",
   "metadata": {},
   "outputs": [
    {
     "name": "stdout",
     "output_type": "stream",
     "text": [
      "valor del numero:  5\n",
      "valor del numero:  10\n",
      "valor del numero:  15\n",
      "valor del numero en If:  15\n",
      " valor de x en If 1\n",
      "hemos detectado un 15 en la lista y la x vale 1\n",
      "valor del numero:  20\n",
      "valor del numero:  25\n"
     ]
    }
   ],
   "source": [
    "for numero in Listado:\n",
    "    print(\"valor del numero: \", numero)\n",
    "    if (numero ==15) and (x==1):    # se puede usar & == and\n",
    "        print(\"valor del numero en If: \", numero)\n",
    "        print(\" valor de x en If\" , x)\n",
    "        print(\"hemos detectado un 15 en la lista y la x vale 1\")"
   ]
  },
  {
   "cell_type": "markdown",
   "id": "6a8c1cee",
   "metadata": {},
   "source": [
    "** IN/ NOT IN **"
   ]
  },
  {
   "cell_type": "code",
   "execution_count": 14,
   "id": "cbf8b04f",
   "metadata": {},
   "outputs": [
    {
     "data": {
      "text/plain": [
       "[5, 10, 15, 20, 25]"
      ]
     },
     "execution_count": 14,
     "metadata": {},
     "output_type": "execute_result"
    }
   ],
   "source": [
    "Listado = [5, 10, 15, 20, 25]\n",
    "Listado\n"
   ]
  },
  {
   "cell_type": "code",
   "execution_count": 15,
   "id": "4063ad75",
   "metadata": {},
   "outputs": [
    {
     "data": {
      "text/plain": [
       "True"
      ]
     },
     "execution_count": 15,
     "metadata": {},
     "output_type": "execute_result"
    }
   ],
   "source": [
    "10 in Listado"
   ]
  },
  {
   "cell_type": "code",
   "execution_count": 17,
   "id": "a9cc0469",
   "metadata": {},
   "outputs": [
    {
     "data": {
      "text/plain": [
       "False"
      ]
     },
     "execution_count": 17,
     "metadata": {},
     "output_type": "execute_result"
    }
   ],
   "source": [
    "10 not in Listado"
   ]
  },
  {
   "cell_type": "markdown",
   "id": "74e1600d",
   "metadata": {},
   "source": [
    "### Entrada de texto por teclado\n",
    "***String***"
   ]
  },
  {
   "cell_type": "code",
   "execution_count": 18,
   "id": "56627505",
   "metadata": {},
   "outputs": [
    {
     "name": "stdout",
     "output_type": "stream",
     "text": [
      "hola como estas??Bien\n"
     ]
    },
    {
     "data": {
      "text/plain": [
       "'Bien'"
      ]
     },
     "execution_count": 18,
     "metadata": {},
     "output_type": "execute_result"
    }
   ],
   "source": [
    "input(\"hola como estas??\")"
   ]
  },
  {
   "cell_type": "code",
   "execution_count": 19,
   "id": "26ea32bb",
   "metadata": {},
   "outputs": [
    {
     "name": "stdout",
     "output_type": "stream",
     "text": [
      "hola,como estas??ok\n"
     ]
    },
    {
     "data": {
      "text/plain": [
       "'ok'"
      ]
     },
     "execution_count": 19,
     "metadata": {},
     "output_type": "execute_result"
    }
   ],
   "source": [
    "texto = input(\"hola,como estas??\")\n",
    "texto"
   ]
  },
  {
   "cell_type": "markdown",
   "id": "019d9f3e",
   "metadata": {},
   "source": [
    "***Numero***"
   ]
  },
  {
   "cell_type": "code",
   "execution_count": 21,
   "id": "04a990c0",
   "metadata": {},
   "outputs": [
    {
     "name": "stdout",
     "output_type": "stream",
     "text": [
      "Introduzca el numero: 25\n"
     ]
    },
    {
     "data": {
      "text/plain": [
       "25"
      ]
     },
     "execution_count": 21,
     "metadata": {},
     "output_type": "execute_result"
    }
   ],
   "source": [
    "numero = int(input(\"Introduzca el numero: \")) #no valen decimales\n",
    "numero"
   ]
  },
  {
   "cell_type": "markdown",
   "id": "26dffa74",
   "metadata": {},
   "source": [
    "**Decimales**"
   ]
  },
  {
   "cell_type": "code",
   "execution_count": 24,
   "id": "bad0c0af",
   "metadata": {},
   "outputs": [
    {
     "name": "stdout",
     "output_type": "stream",
     "text": [
      "introduzca el numero decimal: 2.5\n"
     ]
    },
    {
     "data": {
      "text/plain": [
       "2.5"
      ]
     },
     "execution_count": 24,
     "metadata": {},
     "output_type": "execute_result"
    }
   ],
   "source": [
    "decimal = float(input(\"introduzca el numero decimal: \"))\n",
    "decimal"
   ]
  },
  {
   "cell_type": "code",
   "execution_count": 27,
   "id": "e1cf1f56",
   "metadata": {},
   "outputs": [
    {
     "name": "stdout",
     "output_type": "stream",
     "text": [
      "hola como estas? ok\n"
     ]
    },
    {
     "data": {
      "text/plain": [
       "'ok'"
      ]
     },
     "execution_count": 27,
     "metadata": {},
     "output_type": "execute_result"
    }
   ],
   "source": [
    "input(\"hola como estas? \")"
   ]
  },
  {
   "cell_type": "code",
   "execution_count": null,
   "id": "b2fc224b",
   "metadata": {},
   "outputs": [],
   "source": []
  }
 ],
 "metadata": {
  "kernelspec": {
   "display_name": "Python 3 (ipykernel)",
   "language": "python",
   "name": "python3"
  },
  "language_info": {
   "codemirror_mode": {
    "name": "ipython",
    "version": 3
   },
   "file_extension": ".py",
   "mimetype": "text/x-python",
   "name": "python",
   "nbconvert_exporter": "python",
   "pygments_lexer": "ipython3",
   "version": "3.9.7"
  }
 },
 "nbformat": 4,
 "nbformat_minor": 5
}
