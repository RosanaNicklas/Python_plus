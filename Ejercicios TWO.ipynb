{
 "cells": [
  {
   "cell_type": "code",
   "execution_count": 37,
   "id": "a165fc47",
   "metadata": {},
   "outputs": [
    {
     "data": {
      "text/plain": [
       "[10, 20, 30, 40, 50]"
      ]
     },
     "execution_count": 37,
     "metadata": {},
     "output_type": "execute_result"
    }
   ],
   "source": [
    "listado =[10, 20, 30, 40, 50]\n",
    "listado\n"
   ]
  },
  {
   "cell_type": "code",
   "execution_count": 41,
   "id": "e6d774e5",
   "metadata": {},
   "outputs": [
    {
     "data": {
      "text/plain": [
       "[50, 40, 30, 20, 10]"
      ]
     },
     "execution_count": 41,
     "metadata": {},
     "output_type": "execute_result"
    }
   ],
   "source": [
    "def inverso(lista):\n",
    "    atsil = list(reversed(lista))\n",
    "    return atsil\n",
    "inverso(listado)"
   ]
  },
  {
   "cell_type": "code",
   "execution_count": 42,
   "id": "4a971e8a",
   "metadata": {},
   "outputs": [
    {
     "data": {
      "text/plain": [
       "[50, 40, 30, 20, 10]"
      ]
     },
     "execution_count": 42,
     "metadata": {},
     "output_type": "execute_result"
    }
   ],
   "source": [
    "def inversa(lista_1):\n",
    "    atsil =lista_1[::-1]\n",
    "    return atsil\n",
    "inversa(listado)    "
   ]
  },
  {
   "cell_type": "code",
   "execution_count": 43,
   "id": "41abd85f",
   "metadata": {},
   "outputs": [
    {
     "data": {
      "text/plain": [
       "[50, 40, 30, 20, 10]"
      ]
     },
     "execution_count": 43,
     "metadata": {},
     "output_type": "execute_result"
    }
   ],
   "source": [
    "def inversas(lista_2):\n",
    "    atsil = list(reversed(lista_2))\n",
    "    return(atsil)\n",
    "inversas(listado)\n",
    "    "
   ]
  },
  {
   "cell_type": "code",
   "execution_count": 62,
   "id": "798b4040",
   "metadata": {},
   "outputs": [
    {
     "name": "stdout",
     "output_type": "stream",
     "text": [
      "Introduce un numero: 1\n",
      "Introduce un numero: 2\n",
      "Introduce un numero: 3\n",
      "Introduce un numero: 4\n",
      "Introduce un numero: 5\n"
     ]
    },
    {
     "data": {
      "text/plain": [
       "[1, 2, 3, 4, 5]"
      ]
     },
     "execution_count": 62,
     "metadata": {},
     "output_type": "execute_result"
    }
   ],
   "source": [
    " \n",
    "def programa(num):\n",
    "    lista =[]   \n",
    "    for i in range(5):\n",
    "        num = int(input(\"Introduce un numero: \"))\n",
    "        lista.append(num)\n",
    "    return lista \n",
    "programa(num)"
   ]
  },
  {
   "cell_type": "code",
   "execution_count": 82,
   "id": "ff1dd13a",
   "metadata": {},
   "outputs": [
    {
     "name": "stdout",
     "output_type": "stream",
     "text": [
      "Escriba aqui su frase : Buenos dias por la mañana\n"
     ]
    },
    {
     "data": {
      "text/plain": [
       "10"
      ]
     },
     "execution_count": 82,
     "metadata": {},
     "output_type": "execute_result"
    }
   ],
   "source": [
    "frase = input( \"Escriba aqui su frase : \")\n",
    "\n",
    "def vocal(frase):\n",
    "    vocales = 0\n",
    "    for i in frase:\n",
    "        if i == \"a\" or i == \"e\" or i == \"i\" or i ==\"o\" or i ==\"u\":\n",
    "            vocales += 1\n",
    "        else:\n",
    "            continue\n",
    "    return vocales\n",
    "vocal(frase) \n"
   ]
  },
  {
   "cell_type": "code",
   "execution_count": 87,
   "id": "fc5c5320",
   "metadata": {},
   "outputs": [
    {
     "name": "stdout",
     "output_type": "stream",
     "text": [
      "Escriba aqui su cadena : Buenas tardes por la tarde\n"
     ]
    },
    {
     "data": {
      "text/plain": [
       "9"
      ]
     },
     "execution_count": 87,
     "metadata": {},
     "output_type": "execute_result"
    }
   ],
   "source": [
    "cad = input( \"Escriba aqui su cadena : \")\n",
    "def voc(cad):\n",
    "    vocal = 0\n",
    "    for i in cad:\n",
    "        if i in \"aeiouAEIOU\":\n",
    "            vocal += 1\n",
    "    return vocal\n",
    "voc(cad)"
   ]
  },
  {
   "cell_type": "code",
   "execution_count": null,
   "id": "c8e5ce13",
   "metadata": {},
   "outputs": [],
   "source": [
    "#tablas de multiplicar, haz algo tal que: pregunta al usuario que tabla quiere multiplicar \n",
    "# del 1 al 10."
   ]
  },
  {
   "cell_type": "code",
   "execution_count": 14,
   "id": "696d9086",
   "metadata": {},
   "outputs": [
    {
     "name": "stdout",
     "output_type": "stream",
     "text": [
      "Introduce un numero de tabla de multiplicar: 2\n",
      "2 x 1 = 2\n",
      "2 x 1 = 2\n",
      "2 x 2 = 4\n",
      "2 x 2 = 4\n",
      "2 x 3 = 6\n",
      "2 x 3 = 6\n",
      "2 x 4 = 8\n",
      "2 x 4 = 8\n",
      "2 x 5 = 10\n",
      "2 x 5 = 10\n",
      "2 x 6 = 12\n",
      "2 x 6 = 12\n",
      "2 x 7 = 14\n",
      "2 x 7 = 14\n",
      "2 x 8 = 16\n",
      "2 x 8 = 16\n",
      "2 x 9 = 18\n",
      "2 x 9 = 18\n",
      "2 x 10 = 20\n",
      "2 x 10 = 20\n"
     ]
    }
   ],
   "source": [
    "numero = int(int(input(\"Introduce un numero de tabla de multiplicar: \")))\n",
    "\n",
    "\n",
    "for i in range(1,11):\n",
    "    \n",
    "  print(\"%s x %s = %s\" %(numero, i, numero*i))\n",
    "  print(f\"{numero} x {i} = {numero*i}\")     \n",
    "       \n",
    "    \n",
    "    \n",
    "    \n",
    "    "
   ]
  },
  {
   "cell_type": "code",
   "execution_count": 20,
   "id": "52a11dfa",
   "metadata": {},
   "outputs": [
    {
     "name": "stdout",
     "output_type": "stream",
     "text": [
      "15\n",
      "21\n"
     ]
    }
   ],
   "source": [
    "def funcion_multiplicar(x, y):\n",
    "   multi = x * y\n",
    "   print(multi)\n",
    "\n",
    "funcion_multiplicar(3,5)\n",
    "funcion_multiplicar(7,3)                "
   ]
  },
  {
   "cell_type": "code",
   "execution_count": 21,
   "id": "103f2bec",
   "metadata": {},
   "outputs": [
    {
     "name": "stdout",
     "output_type": "stream",
     "text": [
      "15\n",
      "21\n"
     ]
    }
   ],
   "source": [
    "multi = lambda x,y: x*y\n",
    "print(multi(3,5))\n",
    "print(multi(7,3))\n"
   ]
  },
  {
   "cell_type": "code",
   "execution_count": 44,
   "id": "87d38168",
   "metadata": {},
   "outputs": [
    {
     "name": "stdout",
     "output_type": "stream",
     "text": [
      "Introduce el primer numero: 8\n",
      "Introduce el segundo numero: 5\n",
      "40\n",
      "Introduce el primer numero: 7\n",
      "Introduce el segundo numero: 5\n",
      "35\n"
     ]
    }
   ],
   "source": [
    "x = int(input(\"Introduce el primer numero: \"))\n",
    "y = int(input(\"Introduce el segundo numero: \"))  \n",
    "multiplicar = x * y\n",
    "        \n",
    "print(multiplicar)\n",
    "x = int(input(\"Introduce el primer numero: \"))\n",
    "y = int(input(\"Introduce el segundo numero: \"))  \n",
    "multiplicar = x * y\n",
    "        \n",
    "print(multiplicar)\n",
    "         "
   ]
  },
  {
   "cell_type": "code",
   "execution_count": 45,
   "id": "edcc4460",
   "metadata": {},
   "outputs": [
    {
     "name": "stdout",
     "output_type": "stream",
     "text": [
      "Introduce un numero: 5\n",
      "Introduce otro numero: 8\n"
     ]
    },
    {
     "data": {
      "text/plain": [
       "[40]"
      ]
     },
     "execution_count": 45,
     "metadata": {},
     "output_type": "execute_result"
    }
   ],
   "source": [
    "def funcion_multi(x, y):\n",
    "    multis =[]\n",
    "    x = int(input(\"Introduce un numero: \")) \n",
    "    y = int(input(\"Introduce otro numero: \"))\n",
    "    multiplico = x * y\n",
    "    multis.append(multiplico)\n",
    "\n",
    "    return multis\n",
    "funcion_multi(x,y) \n"
   ]
  },
  {
   "cell_type": "markdown",
   "id": "6a06a623",
   "metadata": {},
   "source": [
    " "
   ]
  },
  {
   "cell_type": "code",
   "execution_count": 6,
   "id": "c04d3c3b",
   "metadata": {},
   "outputs": [
    {
     "name": "stdout",
     "output_type": "stream",
     "text": [
      "H\n",
      "!\n"
     ]
    }
   ],
   "source": [
    "S1 = \"Hi!\"\n",
    "S2 = \"Hello!\"\n",
    "for i in S1:\n",
    "    for j in S2:\n",
    "         if i == j:\n",
    "            print(i)"
   ]
  },
  {
   "cell_type": "code",
   "execution_count": 20,
   "id": "ae1f354f",
   "metadata": {},
   "outputs": [
    {
     "data": {
      "text/plain": [
       "'Level'"
      ]
     },
     "execution_count": 20,
     "metadata": {},
     "output_type": "execute_result"
    }
   ],
   "source": [
    "string = \"Level\"\n",
    "string\n"
   ]
  },
  {
   "cell_type": "code",
   "execution_count": 3,
   "id": "c12c0a3d",
   "metadata": {},
   "outputs": [
    {
     "name": "stdout",
     "output_type": "stream",
     "text": [
      "Introduzca palabra: level\n",
      "Es un palindromo\n"
     ]
    }
   ],
   "source": [
    "palabra = input(\"Introduzca palabra: \")\n",
    "if str(palabra) == str(palabra[::-1]):\n",
    "    print(\"Es un palindromo\")\n",
    "else:\n",
    "    print(\"No es un palindromo\")"
   ]
  },
  {
   "cell_type": "markdown",
   "id": "b6e466ee",
   "metadata": {},
   "source": [
    "**EJERCICIOS**"
   ]
  },
  {
   "cell_type": "code",
   "execution_count": 4,
   "id": "0250839b",
   "metadata": {},
   "outputs": [
    {
     "data": {
      "text/plain": [
       "[25, 8, 32, 20, 1]"
      ]
     },
     "execution_count": 4,
     "metadata": {},
     "output_type": "execute_result"
    }
   ],
   "source": [
    "test = [25, 8, 32, 20, 1]\n",
    "test"
   ]
  },
  {
   "cell_type": "code",
   "execution_count": 19,
   "id": "85000c40",
   "metadata": {},
   "outputs": [
    {
     "data": {
      "text/plain": [
       "list"
      ]
     },
     "execution_count": 19,
     "metadata": {},
     "output_type": "execute_result"
    }
   ],
   "source": [
    "type(test)"
   ]
  },
  {
   "cell_type": "code",
   "execution_count": 20,
   "id": "01407b6d",
   "metadata": {},
   "outputs": [
    {
     "ename": "TypeError",
     "evalue": "list.append() takes exactly one argument (4 given)",
     "output_type": "error",
     "traceback": [
      "\u001b[0;31m---------------------------------------------------------------------------\u001b[0m",
      "\u001b[0;31mTypeError\u001b[0m                                 Traceback (most recent call last)",
      "\u001b[0;32m/var/folders/jw/lg6ll5ln5sx8l3dbpj7412480000gn/T/ipykernel_26252/1121056233.py\u001b[0m in \u001b[0;36m<module>\u001b[0;34m\u001b[0m\n\u001b[0;32m----> 1\u001b[0;31m \u001b[0mtest\u001b[0m\u001b[0;34m.\u001b[0m\u001b[0mappend\u001b[0m\u001b[0;34m(\u001b[0m\u001b[0;36m20\u001b[0m\u001b[0;34m,\u001b[0m\u001b[0;36m32\u001b[0m\u001b[0;34m,\u001b[0m\u001b[0;36m25\u001b[0m\u001b[0;34m,\u001b[0m\u001b[0;36m32\u001b[0m\u001b[0;34m)\u001b[0m\u001b[0;34m\u001b[0m\u001b[0;34m\u001b[0m\u001b[0m\n\u001b[0m\u001b[1;32m      2\u001b[0m \u001b[0mtest\u001b[0m\u001b[0;34m\u001b[0m\u001b[0;34m\u001b[0m\u001b[0m\n",
      "\u001b[0;31mTypeError\u001b[0m: list.append() takes exactly one argument (4 given)"
     ]
    }
   ],
   "source": [
    "\n",
    "test.append(20,32,25,32)\n",
    "test"
   ]
  },
  {
   "cell_type": "code",
   "execution_count": null,
   "id": "c4081986",
   "metadata": {},
   "outputs": [],
   "source": []
  }
 ],
 "metadata": {
  "kernelspec": {
   "display_name": "Python 3 (ipykernel)",
   "language": "python",
   "name": "python3"
  },
  "language_info": {
   "codemirror_mode": {
    "name": "ipython",
    "version": 3
   },
   "file_extension": ".py",
   "mimetype": "text/x-python",
   "name": "python",
   "nbconvert_exporter": "python",
   "pygments_lexer": "ipython3",
   "version": "3.9.7"
  }
 },
 "nbformat": 4,
 "nbformat_minor": 5
}
