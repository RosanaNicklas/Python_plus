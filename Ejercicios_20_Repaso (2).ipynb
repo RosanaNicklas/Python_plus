{
 "cells": [
  {
   "cell_type": "markdown",
   "id": "186fafd6",
   "metadata": {},
   "source": [
    "* Realización de los ejercicios\n",
    "\n",
    "# Volvemos 14:00 "
   ]
  },
  {
   "cell_type": "markdown",
   "id": "2dc73c48",
   "metadata": {},
   "source": [
    "*Creado por:*\n",
    "\n",
    "*Isabel Maniega*"
   ]
  },
  {
   "cell_type": "markdown",
   "id": "298e436c",
   "metadata": {},
   "source": [
    "# Ejercicios"
   ]
  },
  {
   "cell_type": "markdown",
   "id": "b78de3a1",
   "metadata": {},
   "source": [
    "**1)** Definir una función generar_n_caracteres() que tome un entero n y devuelva el caracter multiplicado por n. Por ejemplo: generar_n_caracteres(5, \"x\") debería devolver \"xxxxx\"."
   ]
  },
  {
   "cell_type": "code",
   "execution_count": 1,
   "id": "d4f93748",
   "metadata": {},
   "outputs": [
    {
     "data": {
      "text/plain": [
       "'xxxxx'"
      ]
     },
     "execution_count": 1,
     "metadata": {},
     "output_type": "execute_result"
    }
   ],
   "source": [
    "def generar_n_caracteres(entero, caracter):\n",
    "    for i in caracter:\n",
    "        return entero * caracter\n",
    "generar_n_caracteres(5, \"x\")     "
   ]
  },
  {
   "cell_type": "markdown",
   "id": "87a27876",
   "metadata": {},
   "source": [
    "**2)** Definir un diagrama procedimiento() que tome una lista de números enteros e imprima un diagrama en la pantalla. Ejemplo: procedimiento([4, 9, 7]) debería imprimir lo siguiente:\n",
    "\n",
    "\"****\"\n",
    "\n",
    "\"*********\"\n",
    "\n",
    "\"*******\"\n"
   ]
  },
  {
   "cell_type": "code",
   "execution_count": 6,
   "id": "902b8fa0",
   "metadata": {},
   "outputs": [
    {
     "name": "stdout",
     "output_type": "stream",
     "text": [
      "****\n",
      "******\n",
      "*********\n"
     ]
    }
   ],
   "source": [
    "def procedimiento(lista):\n",
    "    for i in lista:\n",
    "        print(i * \"*\")\n",
    "procedimiento([4, 6, 9])     \n",
    "        \n",
    "    "
   ]
  },
  {
   "cell_type": "markdown",
   "id": "ad1b3b2b",
   "metadata": {},
   "source": [
    "**3)** Escribir una función mas_larga() que tome una lista de palabras y devuelva la mas larga."
   ]
  },
  {
   "cell_type": "code",
   "execution_count": 11,
   "id": "b3485215",
   "metadata": {},
   "outputs": [
    {
     "data": {
      "text/plain": [
       "'Bicicleta'"
      ]
     },
     "execution_count": 11,
     "metadata": {},
     "output_type": "execute_result"
    }
   ],
   "source": [
    "def mas_larga(lista):\n",
    "    palabramas = \"\"\n",
    "    for i in lista:\n",
    "        if len(i) > len(palabramas):\n",
    "            palabramas = i\n",
    "    return palabramas\n",
    "    \n",
    "mas_larga([\"Bicicleta\", \"Coche\", \"Camion\", \"Bus\", \"Patinete\"])    "
   ]
  },
  {
   "cell_type": "markdown",
   "id": "fe6c6825",
   "metadata": {},
   "source": [
    "**4)** Escribir una función filtrar_palabras() que tome una lista de palabras y un entero n, y devuelva las palabras que tengan mas de n caracteres."
   ]
  },
  {
   "cell_type": "code",
   "execution_count": 16,
   "id": "9ad49e83",
   "metadata": {},
   "outputs": [
    {
     "data": {
      "text/plain": [
       "['Bicicleta', 'Coche', 'Camion', 'Patinete']"
      ]
     },
     "execution_count": 16,
     "metadata": {},
     "output_type": "execute_result"
    }
   ],
   "source": [
    "def filtrar_palabras(n,lista):\n",
    "    palabraslargas = []\n",
    "    for i in lista:\n",
    "        if len(i) > n:\n",
    "            palabraslargas.append(i)\n",
    "    return palabraslargas\n",
    "    \n",
    "filtrar_palabras(4, [\"Bicicleta\", \"Coche\", \"Camion\", \"Bus\", \"Patinete\"])   "
   ]
  },
  {
   "cell_type": "markdown",
   "id": "01ae5afa",
   "metadata": {},
   "source": [
    "**5)** Escribir un programa que ingrese una cadenade texto. El programa tiene que evaluar la cadena y decir cuantas letras mayúsculas tiene."
   ]
  },
  {
   "cell_type": "code",
   "execution_count": 79,
   "id": "0a230bd8",
   "metadata": {},
   "outputs": [
    {
     "data": {
      "text/plain": [
       "3"
      ]
     },
     "execution_count": 79,
     "metadata": {},
     "output_type": "execute_result"
    }
   ],
   "source": [
    "def mayus(cadena):\n",
    "    contador = 0\n",
    "    for i in cadena:\n",
    "        if i.isupper():\n",
    "            contador+=1\n",
    "    return contador\n",
    "mayus(\"CadEnA\")   "
   ]
  },
  {
   "cell_type": "markdown",
   "id": "08260a2c",
   "metadata": {},
   "source": [
    "**6)** Definir una tupla con 10 edades de personas.\n",
    "* Imprimir la cantidad de personas con edades superiores a 20."
   ]
  },
  {
   "cell_type": "code",
   "execution_count": 74,
   "id": "174999f0",
   "metadata": {},
   "outputs": [
    {
     "name": "stdout",
     "output_type": "stream",
     "text": [
      "8\n"
     ]
    }
   ],
   "source": [
    "tupla =(10, 25, 36, 56, 58, 59, 25, 36, 14, 45)\n",
    "contador = 0\n",
    "for i in tupla:\n",
    "    if i > 20:\n",
    "        contador+=1\n",
    "print(contador)    "
   ]
  },
  {
   "cell_type": "markdown",
   "id": "d84e372a",
   "metadata": {},
   "source": [
    "**7)** Definir una lista con un conjunto de nombres, imprimir la cantidad de comienzan con la letra a.\n",
    "También se puede hacer elegir al usuario la letra a buscar.  (Un poco mas emocionante)"
   ]
  },
  {
   "cell_type": "code",
   "execution_count": 135,
   "id": "fc859e44",
   "metadata": {},
   "outputs": [
    {
     "name": "stdout",
     "output_type": "stream",
     "text": [
      "Escribe un nombre: as\n",
      "Escribe un nombre: Asa\n",
      "Escribe un nombre: asa\n",
      "Escribe un nombre: Asa\n",
      "Escribe un nombre: asa\n",
      "Escribe un nombre: sas\n",
      "Escribe un nombre: sds\n",
      "Escribe un nombre: dsd\n",
      "Escribe un nombre: sds\n",
      "Qué letra buscas?: A\n",
      "6\n"
     ]
    }
   ],
   "source": [
    "\n",
    "nombres = []\n",
    "for x in range(1,10):\n",
    "\tnombres.append(input(\"Escribe un nombre: \").lower())\n",
    "\n",
    "letra_buscada = input(\"Qué letra buscas?: \").lower()\n",
    "cantidad = 0\n",
    "\n",
    "for nombre in nombres:\n",
    "\tfor letra in nombre:\n",
    "\t\tif letra == letra_buscada:\n",
    "\t\t\tcantidad = cantidad + 1\n",
    "\t\t\tbreak\n",
    "\t\telse:\n",
    "\t\t\tcantidad = cantidad\n",
    "print(cantidad)"
   ]
  },
  {
   "cell_type": "code",
   "execution_count": null,
   "id": "5b919aa6",
   "metadata": {},
   "outputs": [],
   "source": []
  },
  {
   "cell_type": "markdown",
   "id": "248ce07f",
   "metadata": {},
   "source": [
    "**8)** Crear una función contar_vocales(), que reciba una palabra y cuente cuantas letras \"a\" tiene, cuantas letras \"e\" tiene y así hasta completar todas las vocales.\n",
    "Se puede hacer que el usuario sea quien elija la palabra."
   ]
  },
  {
   "cell_type": "code",
   "execution_count": 139,
   "id": "c49810d4",
   "metadata": {},
   "outputs": [
    {
     "name": "stdout",
     "output_type": "stream",
     "text": [
      "Introduce una palabra: aleluya\n"
     ]
    },
    {
     "data": {
      "text/plain": [
       "\"La palabra tiene 2 'a' y 1 'e'\""
      ]
     },
     "execution_count": 139,
     "metadata": {},
     "output_type": "execute_result"
    }
   ],
   "source": [
    "palabra = input(\"Introduce una palabra: \")\n",
    "def contar_vocales(palabra):\n",
    "    aes = 0\n",
    "    es = 0\n",
    "    for i in palabra:\n",
    "        if i == \"a\":\n",
    "            aes+=1\n",
    "        elif i == \"e\":\n",
    "            es+=1\n",
    "    return(f\"La palabra tiene {aes} 'a' y {es} 'e'\")\n",
    "    \n",
    "contar_vocales(palabra)       "
   ]
  },
  {
   "cell_type": "markdown",
   "id": "498737b1",
   "metadata": {},
   "source": [
    "*Creado por:*\n",
    "\n",
    "*Isabel Maniega*"
   ]
  }
 ],
 "metadata": {
  "kernelspec": {
   "display_name": "Python 3 (ipykernel)",
   "language": "python",
   "name": "python3"
  },
  "language_info": {
   "codemirror_mode": {
    "name": "ipython",
    "version": 3
   },
   "file_extension": ".py",
   "mimetype": "text/x-python",
   "name": "python",
   "nbconvert_exporter": "python",
   "pygments_lexer": "ipython3",
   "version": "3.8.10"
  }
 },
 "nbformat": 4,
 "nbformat_minor": 5
}
